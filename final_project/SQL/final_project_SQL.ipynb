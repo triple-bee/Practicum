{
 "cells": [
  {
   "cell_type": "markdown",
   "metadata": {},
   "source": [
    "# Финальный проект. SQL"
   ]
  },
  {
   "cell_type": "markdown",
   "metadata": {},
   "source": [
    "**Описание проекта**\n",
    "\n",
    "Коронавирус застал мир врасплох, изменив привычный порядок вещей. В свободное время жители городов больше не выходят на улицу, не посещают кафе и торговые центры. Зато стало больше времени для книг. Это заметили стартаперы — и бросились создавать приложения для тех, кто любит читать.\n",
    "Ваша компания решила быть на волне и купила крупный сервис для чтения книг по подписке. \n",
    "\n",
    "**Цель исследования:** проанализировать базу данных, в которой хранится информация о книгах, издательствах и авторах, выявить особенности и закономерности, которые помогут внести конкурентное преимущество в новый продукт.\n",
    "\n",
    "**Описание данных**\n",
    "\n",
    "Таблица `books`\n",
    "\n",
    "Содержит данные о книгах:\n",
    "- `book_id` — идентификатор книги;\n",
    "- `author_id` — идентификатор автора;\n",
    "- `title` — название книги;\n",
    "- `num_pages` — количество страниц;\n",
    "- `publication_date` — дата публикации книги;\n",
    "- `publisher_id` — идентификатор издателя.\n",
    "\n",
    "Таблица `authors`\n",
    "\n",
    "Содержит данные об авторах:\n",
    "- `author_id` — идентификатор автора;\n",
    "- `author` — имя автора.\n",
    "\n",
    "Таблица `publishers`\n",
    "\n",
    "Содержит данные об издательствах:\n",
    "- `publisher_id` — идентификатор издательства;\n",
    "- `publisher` — название издательства;\n",
    "\n",
    "Таблица `ratings`\n",
    "\n",
    "Содержит данные о пользовательских оценках книг:\n",
    "- `rating_id` — идентификатор оценки;\n",
    "- `book_id` — идентификатор книги;\n",
    "- `username` — имя пользователя, оставившего оценку;\n",
    "- `rating` — оценка книги.\n",
    "\n",
    "Таблица `reviews`\n",
    "\n",
    "Содержит данные о пользовательских обзорах:\n",
    "- `review_id` — идентификатор обзора;\n",
    "- `book_id` — идентификатор книги;\n",
    "- `username` — имя автора обзора;\n",
    "- `text` — текст обзора.\n"
   ]
  },
  {
   "cell_type": "code",
   "execution_count": 1,
   "metadata": {},
   "outputs": [],
   "source": [
    "import pandas as pd\n",
    "from sqlalchemy import create_engine \n"
   ]
  },
  {
   "cell_type": "markdown",
   "metadata": {},
   "source": [
    "## Обзор данных"
   ]
  },
  {
   "cell_type": "code",
   "execution_count": 2,
   "metadata": {},
   "outputs": [],
   "source": [
    "db_config = {'user': 'praktikum_student', \n",
    "             'pwd': 'Sdf4$2;d-d30pp', \n",
    "             'host': 'rc1b-wcoijxj3yxfsf3fs.mdb.yandexcloud.net',\n",
    "             'port': 6432, \n",
    "             'db': 'data-analyst-final-project-db'} \n",
    "connection_string = 'postgresql://{}:{}@{}:{}/{}'.format(db_config['user'],\n",
    "                                                         db_config['pwd'],\n",
    "                                                         db_config['host'],\n",
    "                                                         db_config['port'],\n",
    "                                                         db_config['db'])"
   ]
  },
  {
   "cell_type": "code",
   "execution_count": 3,
   "metadata": {},
   "outputs": [],
   "source": [
    "engine = create_engine(connection_string, connect_args={'sslmode':'require'}) "
   ]
  },
  {
   "cell_type": "code",
   "execution_count": 4,
   "metadata": {},
   "outputs": [
    {
     "data": {
      "text/html": [
       "<div>\n",
       "<style scoped>\n",
       "    .dataframe tbody tr th:only-of-type {\n",
       "        vertical-align: middle;\n",
       "    }\n",
       "\n",
       "    .dataframe tbody tr th {\n",
       "        vertical-align: top;\n",
       "    }\n",
       "\n",
       "    .dataframe thead th {\n",
       "        text-align: right;\n",
       "    }\n",
       "</style>\n",
       "<table border=\"1\" class=\"dataframe\">\n",
       "  <thead>\n",
       "    <tr style=\"text-align: right;\">\n",
       "      <th></th>\n",
       "      <th>book_id</th>\n",
       "      <th>author_id</th>\n",
       "      <th>title</th>\n",
       "      <th>num_pages</th>\n",
       "      <th>publication_date</th>\n",
       "      <th>publisher_id</th>\n",
       "    </tr>\n",
       "  </thead>\n",
       "  <tbody>\n",
       "    <tr>\n",
       "      <th>0</th>\n",
       "      <td>1</td>\n",
       "      <td>546</td>\n",
       "      <td>'Salem's Lot</td>\n",
       "      <td>594</td>\n",
       "      <td>2005-11-01</td>\n",
       "      <td>93</td>\n",
       "    </tr>\n",
       "    <tr>\n",
       "      <th>1</th>\n",
       "      <td>2</td>\n",
       "      <td>465</td>\n",
       "      <td>1 000 Places to See Before You Die</td>\n",
       "      <td>992</td>\n",
       "      <td>2003-05-22</td>\n",
       "      <td>336</td>\n",
       "    </tr>\n",
       "    <tr>\n",
       "      <th>2</th>\n",
       "      <td>3</td>\n",
       "      <td>407</td>\n",
       "      <td>13 Little Blue Envelopes (Little Blue Envelope...</td>\n",
       "      <td>322</td>\n",
       "      <td>2010-12-21</td>\n",
       "      <td>135</td>\n",
       "    </tr>\n",
       "    <tr>\n",
       "      <th>3</th>\n",
       "      <td>4</td>\n",
       "      <td>82</td>\n",
       "      <td>1491: New Revelations of the Americas Before C...</td>\n",
       "      <td>541</td>\n",
       "      <td>2006-10-10</td>\n",
       "      <td>309</td>\n",
       "    </tr>\n",
       "    <tr>\n",
       "      <th>4</th>\n",
       "      <td>5</td>\n",
       "      <td>125</td>\n",
       "      <td>1776</td>\n",
       "      <td>386</td>\n",
       "      <td>2006-07-04</td>\n",
       "      <td>268</td>\n",
       "    </tr>\n",
       "  </tbody>\n",
       "</table>\n",
       "</div>"
      ],
      "text/plain": [
       "   book_id  author_id                                              title  \\\n",
       "0        1        546                                       'Salem's Lot   \n",
       "1        2        465                 1 000 Places to See Before You Die   \n",
       "2        3        407  13 Little Blue Envelopes (Little Blue Envelope...   \n",
       "3        4         82  1491: New Revelations of the Americas Before C...   \n",
       "4        5        125                                               1776   \n",
       "\n",
       "   num_pages publication_date  publisher_id  \n",
       "0        594       2005-11-01            93  \n",
       "1        992       2003-05-22           336  \n",
       "2        322       2010-12-21           135  \n",
       "3        541       2006-10-10           309  \n",
       "4        386       2006-07-04           268  "
      ]
     },
     "execution_count": 4,
     "metadata": {},
     "output_type": "execute_result"
    }
   ],
   "source": [
    "query = '''\n",
    "           SELECT *\n",
    "           FROM books\n",
    "        '''\n",
    "\n",
    "books = pd.io.sql.read_sql(query, con=engine)\n",
    "\n",
    "books.head(5) "
   ]
  },
  {
   "cell_type": "code",
   "execution_count": 5,
   "metadata": {},
   "outputs": [
    {
     "data": {
      "text/html": [
       "<div>\n",
       "<style scoped>\n",
       "    .dataframe tbody tr th:only-of-type {\n",
       "        vertical-align: middle;\n",
       "    }\n",
       "\n",
       "    .dataframe tbody tr th {\n",
       "        vertical-align: top;\n",
       "    }\n",
       "\n",
       "    .dataframe thead th {\n",
       "        text-align: right;\n",
       "    }\n",
       "</style>\n",
       "<table border=\"1\" class=\"dataframe\">\n",
       "  <thead>\n",
       "    <tr style=\"text-align: right;\">\n",
       "      <th></th>\n",
       "      <th>author_id</th>\n",
       "      <th>author</th>\n",
       "    </tr>\n",
       "  </thead>\n",
       "  <tbody>\n",
       "    <tr>\n",
       "      <th>0</th>\n",
       "      <td>1</td>\n",
       "      <td>A.S. Byatt</td>\n",
       "    </tr>\n",
       "    <tr>\n",
       "      <th>1</th>\n",
       "      <td>2</td>\n",
       "      <td>Aesop/Laura Harris/Laura Gibbs</td>\n",
       "    </tr>\n",
       "    <tr>\n",
       "      <th>2</th>\n",
       "      <td>3</td>\n",
       "      <td>Agatha Christie</td>\n",
       "    </tr>\n",
       "    <tr>\n",
       "      <th>3</th>\n",
       "      <td>4</td>\n",
       "      <td>Alan Brennert</td>\n",
       "    </tr>\n",
       "    <tr>\n",
       "      <th>4</th>\n",
       "      <td>5</td>\n",
       "      <td>Alan Moore/David   Lloyd</td>\n",
       "    </tr>\n",
       "  </tbody>\n",
       "</table>\n",
       "</div>"
      ],
      "text/plain": [
       "   author_id                          author\n",
       "0          1                      A.S. Byatt\n",
       "1          2  Aesop/Laura Harris/Laura Gibbs\n",
       "2          3                 Agatha Christie\n",
       "3          4                   Alan Brennert\n",
       "4          5        Alan Moore/David   Lloyd"
      ]
     },
     "execution_count": 5,
     "metadata": {},
     "output_type": "execute_result"
    }
   ],
   "source": [
    "query = '''\n",
    "           SELECT *\n",
    "           FROM authors\n",
    "        '''\n",
    "\n",
    "authors = pd.io.sql.read_sql(query, con=engine)\n",
    "\n",
    "authors.head(5) "
   ]
  },
  {
   "cell_type": "code",
   "execution_count": 6,
   "metadata": {},
   "outputs": [
    {
     "data": {
      "text/html": [
       "<div>\n",
       "<style scoped>\n",
       "    .dataframe tbody tr th:only-of-type {\n",
       "        vertical-align: middle;\n",
       "    }\n",
       "\n",
       "    .dataframe tbody tr th {\n",
       "        vertical-align: top;\n",
       "    }\n",
       "\n",
       "    .dataframe thead th {\n",
       "        text-align: right;\n",
       "    }\n",
       "</style>\n",
       "<table border=\"1\" class=\"dataframe\">\n",
       "  <thead>\n",
       "    <tr style=\"text-align: right;\">\n",
       "      <th></th>\n",
       "      <th>publisher_id</th>\n",
       "      <th>publisher</th>\n",
       "    </tr>\n",
       "  </thead>\n",
       "  <tbody>\n",
       "    <tr>\n",
       "      <th>0</th>\n",
       "      <td>1</td>\n",
       "      <td>Ace</td>\n",
       "    </tr>\n",
       "    <tr>\n",
       "      <th>1</th>\n",
       "      <td>2</td>\n",
       "      <td>Ace Book</td>\n",
       "    </tr>\n",
       "    <tr>\n",
       "      <th>2</th>\n",
       "      <td>3</td>\n",
       "      <td>Ace Books</td>\n",
       "    </tr>\n",
       "    <tr>\n",
       "      <th>3</th>\n",
       "      <td>4</td>\n",
       "      <td>Ace Hardcover</td>\n",
       "    </tr>\n",
       "    <tr>\n",
       "      <th>4</th>\n",
       "      <td>5</td>\n",
       "      <td>Addison Wesley Publishing Company</td>\n",
       "    </tr>\n",
       "  </tbody>\n",
       "</table>\n",
       "</div>"
      ],
      "text/plain": [
       "   publisher_id                          publisher\n",
       "0             1                                Ace\n",
       "1             2                           Ace Book\n",
       "2             3                          Ace Books\n",
       "3             4                      Ace Hardcover\n",
       "4             5  Addison Wesley Publishing Company"
      ]
     },
     "execution_count": 6,
     "metadata": {},
     "output_type": "execute_result"
    }
   ],
   "source": [
    "query = '''\n",
    "           SELECT *\n",
    "           FROM publishers\n",
    "        '''\n",
    "\n",
    "publishers = pd.io.sql.read_sql(query, con=engine)\n",
    "\n",
    "publishers.head(5) "
   ]
  },
  {
   "cell_type": "code",
   "execution_count": 15,
   "metadata": {},
   "outputs": [
    {
     "data": {
      "text/html": [
       "<div>\n",
       "<style scoped>\n",
       "    .dataframe tbody tr th:only-of-type {\n",
       "        vertical-align: middle;\n",
       "    }\n",
       "\n",
       "    .dataframe tbody tr th {\n",
       "        vertical-align: top;\n",
       "    }\n",
       "\n",
       "    .dataframe thead th {\n",
       "        text-align: right;\n",
       "    }\n",
       "</style>\n",
       "<table border=\"1\" class=\"dataframe\">\n",
       "  <thead>\n",
       "    <tr style=\"text-align: right;\">\n",
       "      <th></th>\n",
       "      <th>rating_id</th>\n",
       "      <th>book_id</th>\n",
       "      <th>username</th>\n",
       "      <th>rating</th>\n",
       "    </tr>\n",
       "  </thead>\n",
       "  <tbody>\n",
       "    <tr>\n",
       "      <th>0</th>\n",
       "      <td>1</td>\n",
       "      <td>1</td>\n",
       "      <td>ryanfranco</td>\n",
       "      <td>4</td>\n",
       "    </tr>\n",
       "    <tr>\n",
       "      <th>1</th>\n",
       "      <td>2</td>\n",
       "      <td>1</td>\n",
       "      <td>grantpatricia</td>\n",
       "      <td>2</td>\n",
       "    </tr>\n",
       "    <tr>\n",
       "      <th>2</th>\n",
       "      <td>3</td>\n",
       "      <td>1</td>\n",
       "      <td>brandtandrea</td>\n",
       "      <td>5</td>\n",
       "    </tr>\n",
       "    <tr>\n",
       "      <th>3</th>\n",
       "      <td>4</td>\n",
       "      <td>2</td>\n",
       "      <td>lorichen</td>\n",
       "      <td>3</td>\n",
       "    </tr>\n",
       "    <tr>\n",
       "      <th>4</th>\n",
       "      <td>5</td>\n",
       "      <td>2</td>\n",
       "      <td>mariokeller</td>\n",
       "      <td>2</td>\n",
       "    </tr>\n",
       "  </tbody>\n",
       "</table>\n",
       "</div>"
      ],
      "text/plain": [
       "   rating_id  book_id       username  rating\n",
       "0          1        1     ryanfranco       4\n",
       "1          2        1  grantpatricia       2\n",
       "2          3        1   brandtandrea       5\n",
       "3          4        2       lorichen       3\n",
       "4          5        2    mariokeller       2"
      ]
     },
     "execution_count": 15,
     "metadata": {},
     "output_type": "execute_result"
    }
   ],
   "source": [
    "query = '''\n",
    "           SELECT *\n",
    "           FROM ratings\n",
    "        '''\n",
    "\n",
    "ratings = pd.io.sql.read_sql(query, con=engine)\n",
    "\n",
    "ratings.head(5) "
   ]
  },
  {
   "cell_type": "code",
   "execution_count": 8,
   "metadata": {},
   "outputs": [
    {
     "data": {
      "text/html": [
       "<div>\n",
       "<style scoped>\n",
       "    .dataframe tbody tr th:only-of-type {\n",
       "        vertical-align: middle;\n",
       "    }\n",
       "\n",
       "    .dataframe tbody tr th {\n",
       "        vertical-align: top;\n",
       "    }\n",
       "\n",
       "    .dataframe thead th {\n",
       "        text-align: right;\n",
       "    }\n",
       "</style>\n",
       "<table border=\"1\" class=\"dataframe\">\n",
       "  <thead>\n",
       "    <tr style=\"text-align: right;\">\n",
       "      <th></th>\n",
       "      <th>review_id</th>\n",
       "      <th>book_id</th>\n",
       "      <th>username</th>\n",
       "      <th>text</th>\n",
       "    </tr>\n",
       "  </thead>\n",
       "  <tbody>\n",
       "    <tr>\n",
       "      <th>0</th>\n",
       "      <td>1</td>\n",
       "      <td>1</td>\n",
       "      <td>brandtandrea</td>\n",
       "      <td>Mention society tell send professor analysis. ...</td>\n",
       "    </tr>\n",
       "    <tr>\n",
       "      <th>1</th>\n",
       "      <td>2</td>\n",
       "      <td>1</td>\n",
       "      <td>ryanfranco</td>\n",
       "      <td>Foot glass pretty audience hit themselves. Amo...</td>\n",
       "    </tr>\n",
       "    <tr>\n",
       "      <th>2</th>\n",
       "      <td>3</td>\n",
       "      <td>2</td>\n",
       "      <td>lorichen</td>\n",
       "      <td>Listen treat keep worry. Miss husband tax but ...</td>\n",
       "    </tr>\n",
       "    <tr>\n",
       "      <th>3</th>\n",
       "      <td>4</td>\n",
       "      <td>3</td>\n",
       "      <td>johnsonamanda</td>\n",
       "      <td>Finally month interesting blue could nature cu...</td>\n",
       "    </tr>\n",
       "    <tr>\n",
       "      <th>4</th>\n",
       "      <td>5</td>\n",
       "      <td>3</td>\n",
       "      <td>scotttamara</td>\n",
       "      <td>Nation purpose heavy give wait song will. List...</td>\n",
       "    </tr>\n",
       "  </tbody>\n",
       "</table>\n",
       "</div>"
      ],
      "text/plain": [
       "   review_id  book_id       username  \\\n",
       "0          1        1   brandtandrea   \n",
       "1          2        1     ryanfranco   \n",
       "2          3        2       lorichen   \n",
       "3          4        3  johnsonamanda   \n",
       "4          5        3    scotttamara   \n",
       "\n",
       "                                                text  \n",
       "0  Mention society tell send professor analysis. ...  \n",
       "1  Foot glass pretty audience hit themselves. Amo...  \n",
       "2  Listen treat keep worry. Miss husband tax but ...  \n",
       "3  Finally month interesting blue could nature cu...  \n",
       "4  Nation purpose heavy give wait song will. List...  "
      ]
     },
     "execution_count": 8,
     "metadata": {},
     "output_type": "execute_result"
    }
   ],
   "source": [
    "query = '''\n",
    "           SELECT *\n",
    "           FROM reviews\n",
    "        '''\n",
    "\n",
    "reviews = pd.io.sql.read_sql(query, con=engine)\n",
    "\n",
    "reviews.head(5) "
   ]
  },
  {
   "cell_type": "markdown",
   "metadata": {},
   "source": [
    "## Задания"
   ]
  },
  {
   "cell_type": "markdown",
   "metadata": {},
   "source": [
    "###  Посчитайте, сколько книг вышло после 1 января 2000 года"
   ]
  },
  {
   "cell_type": "code",
   "execution_count": 9,
   "metadata": {
    "scrolled": true
   },
   "outputs": [
    {
     "data": {
      "text/html": [
       "<div>\n",
       "<style scoped>\n",
       "    .dataframe tbody tr th:only-of-type {\n",
       "        vertical-align: middle;\n",
       "    }\n",
       "\n",
       "    .dataframe tbody tr th {\n",
       "        vertical-align: top;\n",
       "    }\n",
       "\n",
       "    .dataframe thead th {\n",
       "        text-align: right;\n",
       "    }\n",
       "</style>\n",
       "<table border=\"1\" class=\"dataframe\">\n",
       "  <thead>\n",
       "    <tr style=\"text-align: right;\">\n",
       "      <th></th>\n",
       "      <th>count</th>\n",
       "    </tr>\n",
       "  </thead>\n",
       "  <tbody>\n",
       "    <tr>\n",
       "      <th>0</th>\n",
       "      <td>819</td>\n",
       "    </tr>\n",
       "  </tbody>\n",
       "</table>\n",
       "</div>"
      ],
      "text/plain": [
       "   count\n",
       "0    819"
      ]
     },
     "execution_count": 9,
     "metadata": {},
     "output_type": "execute_result"
    }
   ],
   "source": [
    "query = '''\n",
    "           SELECT COUNT(DISTINCT(book_id))\n",
    "           FROM books\n",
    "           WHERE publication_date > '2000-01-01'\n",
    "        '''\n",
    "pd.io.sql.read_sql(query, con = engine) "
   ]
  },
  {
   "cell_type": "markdown",
   "metadata": {},
   "source": [
    "С первого января 2000 года вышло 819 книг."
   ]
  },
  {
   "cell_type": "markdown",
   "metadata": {},
   "source": [
    "### Для каждой книги посчитайте количество обзоров и среднюю оценку;"
   ]
  },
  {
   "cell_type": "code",
   "execution_count": 55,
   "metadata": {
    "scrolled": false
   },
   "outputs": [
    {
     "data": {
      "text/html": [
       "<div>\n",
       "<style scoped>\n",
       "    .dataframe tbody tr th:only-of-type {\n",
       "        vertical-align: middle;\n",
       "    }\n",
       "\n",
       "    .dataframe tbody tr th {\n",
       "        vertical-align: top;\n",
       "    }\n",
       "\n",
       "    .dataframe thead th {\n",
       "        text-align: right;\n",
       "    }\n",
       "</style>\n",
       "<table border=\"1\" class=\"dataframe\">\n",
       "  <thead>\n",
       "    <tr style=\"text-align: right;\">\n",
       "      <th></th>\n",
       "      <th>book_id</th>\n",
       "      <th>title</th>\n",
       "      <th>round</th>\n",
       "      <th>count_reviews</th>\n",
       "    </tr>\n",
       "  </thead>\n",
       "  <tbody>\n",
       "    <tr>\n",
       "      <th>0</th>\n",
       "      <td>1</td>\n",
       "      <td>'Salem's Lot</td>\n",
       "      <td>3.7</td>\n",
       "      <td>2</td>\n",
       "    </tr>\n",
       "    <tr>\n",
       "      <th>1</th>\n",
       "      <td>2</td>\n",
       "      <td>1 000 Places to See Before You Die</td>\n",
       "      <td>2.5</td>\n",
       "      <td>1</td>\n",
       "    </tr>\n",
       "    <tr>\n",
       "      <th>2</th>\n",
       "      <td>3</td>\n",
       "      <td>13 Little Blue Envelopes (Little Blue Envelope...</td>\n",
       "      <td>4.7</td>\n",
       "      <td>3</td>\n",
       "    </tr>\n",
       "    <tr>\n",
       "      <th>3</th>\n",
       "      <td>4</td>\n",
       "      <td>1491: New Revelations of the Americas Before C...</td>\n",
       "      <td>4.5</td>\n",
       "      <td>2</td>\n",
       "    </tr>\n",
       "    <tr>\n",
       "      <th>4</th>\n",
       "      <td>5</td>\n",
       "      <td>1776</td>\n",
       "      <td>4.0</td>\n",
       "      <td>4</td>\n",
       "    </tr>\n",
       "    <tr>\n",
       "      <th>...</th>\n",
       "      <td>...</td>\n",
       "      <td>...</td>\n",
       "      <td>...</td>\n",
       "      <td>...</td>\n",
       "    </tr>\n",
       "    <tr>\n",
       "      <th>995</th>\n",
       "      <td>996</td>\n",
       "      <td>Wyrd Sisters (Discworld  #6; Witches #2)</td>\n",
       "      <td>3.7</td>\n",
       "      <td>3</td>\n",
       "    </tr>\n",
       "    <tr>\n",
       "      <th>996</th>\n",
       "      <td>997</td>\n",
       "      <td>Xenocide (Ender's Saga  #3)</td>\n",
       "      <td>3.4</td>\n",
       "      <td>3</td>\n",
       "    </tr>\n",
       "    <tr>\n",
       "      <th>997</th>\n",
       "      <td>998</td>\n",
       "      <td>Year of Wonders</td>\n",
       "      <td>3.2</td>\n",
       "      <td>4</td>\n",
       "    </tr>\n",
       "    <tr>\n",
       "      <th>998</th>\n",
       "      <td>999</td>\n",
       "      <td>You Suck (A Love Story  #2)</td>\n",
       "      <td>4.5</td>\n",
       "      <td>2</td>\n",
       "    </tr>\n",
       "    <tr>\n",
       "      <th>999</th>\n",
       "      <td>1000</td>\n",
       "      <td>Zen and the Art of Motorcycle Maintenance: An ...</td>\n",
       "      <td>3.8</td>\n",
       "      <td>4</td>\n",
       "    </tr>\n",
       "  </tbody>\n",
       "</table>\n",
       "<p>1000 rows × 4 columns</p>\n",
       "</div>"
      ],
      "text/plain": [
       "     book_id                                              title  round  \\\n",
       "0          1                                       'Salem's Lot    3.7   \n",
       "1          2                 1 000 Places to See Before You Die    2.5   \n",
       "2          3  13 Little Blue Envelopes (Little Blue Envelope...    4.7   \n",
       "3          4  1491: New Revelations of the Americas Before C...    4.5   \n",
       "4          5                                               1776    4.0   \n",
       "..       ...                                                ...    ...   \n",
       "995      996           Wyrd Sisters (Discworld  #6; Witches #2)    3.7   \n",
       "996      997                        Xenocide (Ender's Saga  #3)    3.4   \n",
       "997      998                                    Year of Wonders    3.2   \n",
       "998      999                        You Suck (A Love Story  #2)    4.5   \n",
       "999     1000  Zen and the Art of Motorcycle Maintenance: An ...    3.8   \n",
       "\n",
       "     count_reviews  \n",
       "0                2  \n",
       "1                1  \n",
       "2                3  \n",
       "3                2  \n",
       "4                4  \n",
       "..             ...  \n",
       "995              3  \n",
       "996              3  \n",
       "997              4  \n",
       "998              2  \n",
       "999              4  \n",
       "\n",
       "[1000 rows x 4 columns]"
      ]
     },
     "execution_count": 55,
     "metadata": {},
     "output_type": "execute_result"
    }
   ],
   "source": [
    "query = '''\n",
    "        WITH ratings_stats AS (SELECT b.title as title, \n",
    "                                      b.book_id as book_id, \n",
    "                                      AVG(ret.rating) as avg_rating\n",
    "                               FROM books as b        \n",
    "                               LEFT JOIN ratings as ret ON b.book_id = ret.book_id\n",
    "                               GROUP BY b.book_id),\n",
    "        reveiws_stats AS (SELECT b.title, \n",
    "                                 b.book_id, \n",
    "                                 COUNT(rev.book_id) as count_reviews\n",
    "                          FROM books as b\n",
    "                          LEFT JOIN reviews as rev ON b.book_id = rev.book_id\n",
    "                          GROUP BY b.book_id)\n",
    "                          \n",
    "        SELECT ratings_stats.book_id, \n",
    "               ratings_stats.title, \n",
    "               ROUND(ratings_stats.avg_rating, 1), \n",
    "               reveiws_stats.count_reviews\n",
    "        FROM ratings_stats\n",
    "        LEFT JOIN reveiws_stats ON ratings_stats.book_id = reveiws_stats.book_id\n",
    "        '''\n",
    "pd.io.sql.read_sql(query, con = engine) "
   ]
  },
  {
   "cell_type": "markdown",
   "metadata": {},
   "source": [
    "Для каждой книги мы получили среднюю оценку и количество обзоров."
   ]
  },
  {
   "cell_type": "markdown",
   "metadata": {},
   "source": [
    "### Определите издательство, которое выпустило наибольшее число книг толще 50 страниц — так вы исключите из анализа брошюры"
   ]
  },
  {
   "cell_type": "code",
   "execution_count": 56,
   "metadata": {
    "scrolled": true
   },
   "outputs": [
    {
     "data": {
      "text/html": [
       "<div>\n",
       "<style scoped>\n",
       "    .dataframe tbody tr th:only-of-type {\n",
       "        vertical-align: middle;\n",
       "    }\n",
       "\n",
       "    .dataframe tbody tr th {\n",
       "        vertical-align: top;\n",
       "    }\n",
       "\n",
       "    .dataframe thead th {\n",
       "        text-align: right;\n",
       "    }\n",
       "</style>\n",
       "<table border=\"1\" class=\"dataframe\">\n",
       "  <thead>\n",
       "    <tr style=\"text-align: right;\">\n",
       "      <th></th>\n",
       "      <th>publisher</th>\n",
       "      <th>total_books</th>\n",
       "    </tr>\n",
       "  </thead>\n",
       "  <tbody>\n",
       "    <tr>\n",
       "      <th>0</th>\n",
       "      <td>Penguin Books</td>\n",
       "      <td>42</td>\n",
       "    </tr>\n",
       "  </tbody>\n",
       "</table>\n",
       "</div>"
      ],
      "text/plain": [
       "       publisher  total_books\n",
       "0  Penguin Books           42"
      ]
     },
     "execution_count": 56,
     "metadata": {},
     "output_type": "execute_result"
    }
   ],
   "source": [
    "query = '''\n",
    "           SELECT p.publisher, \n",
    "                  COUNT(b.book_id) as total_books\n",
    "           FROM books AS b\n",
    "           LEFT JOIN publishers AS p ON p.publisher_id = b.publisher_id\n",
    "           WHERE num_pages > 50\n",
    "           GROUP BY p.publisher\n",
    "           ORDER BY total_books DESC\n",
    "           LIMIT 1\n",
    "           \n",
    "        '''\n",
    "pd.io.sql.read_sql(query, con = engine) "
   ]
  },
  {
   "cell_type": "markdown",
   "metadata": {},
   "source": [
    "Издательство, выпустичшее наибольшее число книг, а именно 42 книги, называется «Penguin Books»."
   ]
  },
  {
   "cell_type": "markdown",
   "metadata": {},
   "source": [
    "### Определите автора с самой высокой средней оценкой книг — учитывайте только книги с 50 и более оценками"
   ]
  },
  {
   "cell_type": "code",
   "execution_count": 57,
   "metadata": {},
   "outputs": [
    {
     "data": {
      "text/html": [
       "<div>\n",
       "<style scoped>\n",
       "    .dataframe tbody tr th:only-of-type {\n",
       "        vertical-align: middle;\n",
       "    }\n",
       "\n",
       "    .dataframe tbody tr th {\n",
       "        vertical-align: top;\n",
       "    }\n",
       "\n",
       "    .dataframe thead th {\n",
       "        text-align: right;\n",
       "    }\n",
       "</style>\n",
       "<table border=\"1\" class=\"dataframe\">\n",
       "  <thead>\n",
       "    <tr style=\"text-align: right;\">\n",
       "      <th></th>\n",
       "      <th>author</th>\n",
       "      <th>avg_rat</th>\n",
       "    </tr>\n",
       "  </thead>\n",
       "  <tbody>\n",
       "    <tr>\n",
       "      <th>0</th>\n",
       "      <td>J.K. Rowling/Mary GrandPré</td>\n",
       "      <td>4.287097</td>\n",
       "    </tr>\n",
       "  </tbody>\n",
       "</table>\n",
       "</div>"
      ],
      "text/plain": [
       "                       author   avg_rat\n",
       "0  J.K. Rowling/Mary GrandPré  4.287097"
      ]
     },
     "execution_count": 57,
     "metadata": {},
     "output_type": "execute_result"
    }
   ],
   "source": [
    "query = '''\n",
    "           SELECT a.author, \n",
    "                  AVG(rat.rating) as avg_rat\n",
    "           FROM authors AS a\n",
    "           LEFT JOIN books AS b ON a.author_id = b.author_id\n",
    "           LEFT JOIN ratings AS rat ON b.book_id=rat.book_id\n",
    "           WHERE b.book_id IN (SELECT book_id \n",
    "                               FROM (SELECT b.book_id, COUNT(rat.rating_id) AS count_rat\n",
    "                                     FROM books AS b\n",
    "                                     LEFT JOIN ratings AS rat ON b.book_id=rat.book_id\n",
    "                                     GROUP BY b.book_id\n",
    "                                     ORDER BY count_rat DESC) as t1 \n",
    "                                WHERE t1.count_rat > 50)\n",
    "           GROUP BY a.author\n",
    "           ORDER BY avg_rat DESC\n",
    "           LIMIT 1\n",
    "           \n",
    "        '''\n",
    "pd.io.sql.read_sql(query, con = engine) "
   ]
  },
  {
   "cell_type": "markdown",
   "metadata": {},
   "source": [
    "J.K. Rowling/Mary GrandPré являются авторами с наивысшей средней оценкой, среди книг, у которых больше 50 оценок."
   ]
  },
  {
   "cell_type": "markdown",
   "metadata": {},
   "source": [
    "### Посчитайте среднее количество обзоров от пользователей, которые поставили больше 50 оценок."
   ]
  },
  {
   "cell_type": "code",
   "execution_count": 58,
   "metadata": {},
   "outputs": [
    {
     "data": {
      "text/html": [
       "<div>\n",
       "<style scoped>\n",
       "    .dataframe tbody tr th:only-of-type {\n",
       "        vertical-align: middle;\n",
       "    }\n",
       "\n",
       "    .dataframe tbody tr th {\n",
       "        vertical-align: top;\n",
       "    }\n",
       "\n",
       "    .dataframe thead th {\n",
       "        text-align: right;\n",
       "    }\n",
       "</style>\n",
       "<table border=\"1\" class=\"dataframe\">\n",
       "  <thead>\n",
       "    <tr style=\"text-align: right;\">\n",
       "      <th></th>\n",
       "      <th>avg_review_count</th>\n",
       "    </tr>\n",
       "  </thead>\n",
       "  <tbody>\n",
       "    <tr>\n",
       "      <th>0</th>\n",
       "      <td>24.333333</td>\n",
       "    </tr>\n",
       "  </tbody>\n",
       "</table>\n",
       "</div>"
      ],
      "text/plain": [
       "   avg_review_count\n",
       "0         24.333333"
      ]
     },
     "execution_count": 58,
     "metadata": {},
     "output_type": "execute_result"
    }
   ],
   "source": [
    "query = '''\n",
    "           SELECT AVG(count_review.count) as avg_review_count\n",
    "           FROM (SELECT username, \n",
    "                        COUNT(review_id) AS count\n",
    "                 FROM reviews\n",
    "                 GROUP BY username) AS count_review\n",
    "           WHERE count_review.username IN (SELECT username \n",
    "                                           FROM (SELECT username, COUNT(rating_id) AS count_rat\n",
    "                                                 FROM ratings\n",
    "                                                 GROUP BY username\n",
    "                                                 ORDER BY count_rat DESC) as t1 \n",
    "                                           WHERE t1.count_rat > 50)\n",
    "           \n",
    "        '''\n",
    "pd.io.sql.read_sql(query, con = engine) "
   ]
  },
  {
   "cell_type": "markdown",
   "metadata": {},
   "source": [
    "Среднее количество обзоров, среди пользователей поставивших больше 50 оценок - 24,3."
   ]
  },
  {
   "cell_type": "markdown",
   "metadata": {},
   "source": [
    "**Вывод:** с 2000 года было выпущено 819 книг, среди них были как очень успешные так и провальные - с этими данными можно ознакомиться в таблице с количеством обзоров и средним рейтингом для каждой книги. Самым продуктивным изданием оказалось Penguin Books - оно выпустило 42 книги. J.K. Rowling/Mary GrandPré являются авторами бестселлера и обладелями наивысшей средней оценки книг. Так же мы узнали что пользователи, часто оценивающие книги в среднем делают 24 обзора."
   ]
  }
 ],
 "metadata": {
  "ExecuteTimeLog": [
   {
    "duration": 561,
    "start_time": "2023-01-12T16:18:38.947Z"
   },
   {
    "duration": 4,
    "start_time": "2023-01-12T16:18:39.510Z"
   },
   {
    "duration": 5481,
    "start_time": "2023-01-12T16:18:39.515Z"
   },
   {
    "duration": 298,
    "start_time": "2023-01-12T16:18:44.999Z"
   },
   {
    "duration": 80,
    "start_time": "2023-01-12T16:18:45.299Z"
   },
   {
    "duration": 81,
    "start_time": "2023-01-12T16:18:45.380Z"
   },
   {
    "duration": 100,
    "start_time": "2023-01-12T16:18:45.463Z"
   },
   {
    "duration": 96,
    "start_time": "2023-01-12T16:18:45.564Z"
   },
   {
    "duration": 77,
    "start_time": "2023-01-12T16:18:45.662Z"
   },
   {
    "duration": 94,
    "start_time": "2023-01-12T16:18:45.742Z"
   },
   {
    "duration": 78,
    "start_time": "2023-01-12T16:18:45.839Z"
   },
   {
    "duration": 81,
    "start_time": "2023-01-12T16:18:45.920Z"
   },
   {
    "duration": 80,
    "start_time": "2023-01-12T16:18:46.003Z"
   },
   {
    "duration": 95,
    "start_time": "2023-01-12T16:19:23.148Z"
   },
   {
    "duration": 101,
    "start_time": "2023-01-12T16:19:26.030Z"
   },
   {
    "duration": 81,
    "start_time": "2023-01-12T16:21:21.497Z"
   },
   {
    "duration": 84,
    "start_time": "2023-01-12T16:21:25.429Z"
   },
   {
    "duration": 52,
    "start_time": "2023-01-12T16:29:31.295Z"
   },
   {
    "duration": 493,
    "start_time": "2023-01-12T16:29:42.452Z"
   },
   {
    "duration": 4,
    "start_time": "2023-01-12T16:29:42.947Z"
   },
   {
    "duration": 8100,
    "start_time": "2023-01-12T16:29:42.953Z"
   },
   {
    "duration": 70,
    "start_time": "2023-01-12T16:29:51.054Z"
   },
   {
    "duration": 28,
    "start_time": "2023-01-12T16:29:51.127Z"
   },
   {
    "duration": 42,
    "start_time": "2023-01-12T16:29:51.157Z"
   },
   {
    "duration": 37,
    "start_time": "2023-01-12T16:29:51.200Z"
   },
   {
    "duration": 18,
    "start_time": "2023-01-12T16:29:51.238Z"
   },
   {
    "duration": 11,
    "start_time": "2023-01-12T16:29:51.258Z"
   },
   {
    "duration": 161,
    "start_time": "2023-01-12T16:29:51.271Z"
   },
   {
    "duration": 0,
    "start_time": "2023-01-12T16:29:51.434Z"
   },
   {
    "duration": 0,
    "start_time": "2023-01-12T16:29:51.436Z"
   },
   {
    "duration": 0,
    "start_time": "2023-01-12T16:29:51.438Z"
   },
   {
    "duration": 38,
    "start_time": "2023-01-12T16:30:15.088Z"
   },
   {
    "duration": 14,
    "start_time": "2023-01-12T16:31:18.177Z"
   },
   {
    "duration": 33,
    "start_time": "2023-01-12T16:32:25.096Z"
   },
   {
    "duration": 29,
    "start_time": "2023-01-12T16:33:11.393Z"
   },
   {
    "duration": 90,
    "start_time": "2023-01-12T16:34:14.769Z"
   },
   {
    "duration": 23,
    "start_time": "2023-01-12T16:34:28.314Z"
   },
   {
    "duration": 21,
    "start_time": "2023-01-12T16:35:16.974Z"
   },
   {
    "duration": 19,
    "start_time": "2023-01-12T16:44:39.117Z"
   },
   {
    "duration": 16,
    "start_time": "2023-01-12T16:46:51.695Z"
   },
   {
    "duration": 17,
    "start_time": "2023-01-12T16:46:59.031Z"
   },
   {
    "duration": 20,
    "start_time": "2023-01-12T16:47:20.677Z"
   },
   {
    "duration": 153,
    "start_time": "2023-01-12T16:49:15.975Z"
   },
   {
    "duration": 69,
    "start_time": "2023-01-12T16:49:59.874Z"
   },
   {
    "duration": 99,
    "start_time": "2023-01-12T16:52:38.717Z"
   },
   {
    "duration": 91,
    "start_time": "2023-01-12T16:52:55.931Z"
   },
   {
    "duration": 107,
    "start_time": "2023-01-12T16:53:07.282Z"
   },
   {
    "duration": 24,
    "start_time": "2023-01-12T16:53:39.758Z"
   },
   {
    "duration": 24,
    "start_time": "2023-01-12T16:54:27.041Z"
   },
   {
    "duration": 114,
    "start_time": "2023-01-12T16:55:58.705Z"
   },
   {
    "duration": 26,
    "start_time": "2023-01-12T16:56:58.314Z"
   },
   {
    "duration": 27,
    "start_time": "2023-01-12T16:59:52.397Z"
   },
   {
    "duration": 28,
    "start_time": "2023-01-12T17:02:23.344Z"
   },
   {
    "duration": 96,
    "start_time": "2023-01-12T17:06:13.499Z"
   },
   {
    "duration": 104,
    "start_time": "2023-01-12T17:06:22.162Z"
   },
   {
    "duration": 226,
    "start_time": "2023-01-12T17:06:37.770Z"
   },
   {
    "duration": 22,
    "start_time": "2023-01-12T17:08:17.037Z"
   },
   {
    "duration": 35,
    "start_time": "2023-01-12T17:10:09.245Z"
   },
   {
    "duration": 29,
    "start_time": "2023-01-12T17:10:51.728Z"
   },
   {
    "duration": 36,
    "start_time": "2023-01-12T17:11:10.425Z"
   },
   {
    "duration": 22,
    "start_time": "2023-01-12T17:11:45.138Z"
   },
   {
    "duration": 19,
    "start_time": "2023-01-12T17:11:52.159Z"
   },
   {
    "duration": 28,
    "start_time": "2023-01-12T17:12:02.558Z"
   },
   {
    "duration": 76,
    "start_time": "2023-01-12T17:12:36.682Z"
   },
   {
    "duration": 96,
    "start_time": "2023-01-12T17:13:09.226Z"
   },
   {
    "duration": 94,
    "start_time": "2023-01-12T17:13:21.839Z"
   },
   {
    "duration": 11,
    "start_time": "2023-01-12T17:13:53.117Z"
   },
   {
    "duration": 22,
    "start_time": "2023-01-12T17:14:20.642Z"
   },
   {
    "duration": 96,
    "start_time": "2023-01-12T17:19:19.057Z"
   },
   {
    "duration": 40,
    "start_time": "2023-01-12T17:19:37.025Z"
   },
   {
    "duration": 93,
    "start_time": "2023-01-12T17:20:28.046Z"
   },
   {
    "duration": 256,
    "start_time": "2023-01-12T17:20:58.552Z"
   },
   {
    "duration": 568,
    "start_time": "2023-01-12T17:21:19.107Z"
   },
   {
    "duration": 17,
    "start_time": "2023-01-12T17:22:03.462Z"
   },
   {
    "duration": 23,
    "start_time": "2023-01-12T17:23:10.431Z"
   },
   {
    "duration": 89,
    "start_time": "2023-01-12T17:23:28.473Z"
   },
   {
    "duration": 23,
    "start_time": "2023-01-12T17:23:33.228Z"
   },
   {
    "duration": 91,
    "start_time": "2023-01-12T17:24:41.135Z"
   },
   {
    "duration": 102,
    "start_time": "2023-01-12T17:24:59.173Z"
   },
   {
    "duration": 95,
    "start_time": "2023-01-12T17:25:29.037Z"
   },
   {
    "duration": 135,
    "start_time": "2023-01-12T17:26:04.617Z"
   },
   {
    "duration": 25,
    "start_time": "2023-01-12T17:26:30.932Z"
   },
   {
    "duration": 24,
    "start_time": "2023-01-12T17:27:55.813Z"
   },
   {
    "duration": 20,
    "start_time": "2023-01-12T17:28:35.042Z"
   },
   {
    "duration": 24,
    "start_time": "2023-01-12T17:28:45.461Z"
   },
   {
    "duration": 536,
    "start_time": "2023-01-13T05:07:47.380Z"
   },
   {
    "duration": 4,
    "start_time": "2023-01-13T05:07:49.941Z"
   },
   {
    "duration": 7535,
    "start_time": "2023-01-13T05:07:52.290Z"
   },
   {
    "duration": 80,
    "start_time": "2023-01-13T05:07:59.827Z"
   },
   {
    "duration": 12,
    "start_time": "2023-01-13T05:08:02.700Z"
   },
   {
    "duration": 12,
    "start_time": "2023-01-13T05:08:04.778Z"
   },
   {
    "duration": 26,
    "start_time": "2023-01-13T05:08:07.006Z"
   },
   {
    "duration": 21,
    "start_time": "2023-01-13T05:08:09.155Z"
   },
   {
    "duration": 10,
    "start_time": "2023-01-13T05:08:14.571Z"
   },
   {
    "duration": 164,
    "start_time": "2023-01-13T05:08:42.654Z"
   },
   {
    "duration": 19,
    "start_time": "2023-01-13T05:08:50.817Z"
   },
   {
    "duration": 84,
    "start_time": "2023-01-13T05:09:50.665Z"
   },
   {
    "duration": 22,
    "start_time": "2023-01-13T05:10:09.728Z"
   },
   {
    "duration": 11,
    "start_time": "2023-01-13T05:11:02.476Z"
   },
   {
    "duration": 66,
    "start_time": "2023-01-13T05:11:16.436Z"
   },
   {
    "duration": 91,
    "start_time": "2023-01-13T05:12:17.824Z"
   },
   {
    "duration": 17,
    "start_time": "2023-01-13T05:12:32.978Z"
   },
   {
    "duration": 22,
    "start_time": "2023-01-13T05:13:01.850Z"
   },
   {
    "duration": 20,
    "start_time": "2023-01-13T05:13:23.998Z"
   },
   {
    "duration": 19,
    "start_time": "2023-01-13T05:13:47.057Z"
   },
   {
    "duration": 21,
    "start_time": "2023-01-13T05:15:07.976Z"
   },
   {
    "duration": 24,
    "start_time": "2023-01-13T05:18:03.267Z"
   },
   {
    "duration": 21,
    "start_time": "2023-01-13T05:19:24.650Z"
   },
   {
    "duration": 16,
    "start_time": "2023-01-13T05:19:29.440Z"
   },
   {
    "duration": 97,
    "start_time": "2023-01-13T05:22:05.713Z"
   },
   {
    "duration": 95,
    "start_time": "2023-01-13T05:22:15.182Z"
   },
   {
    "duration": 19,
    "start_time": "2023-01-13T05:22:51.262Z"
   },
   {
    "duration": 18,
    "start_time": "2023-01-13T05:24:36.678Z"
   },
   {
    "duration": 93,
    "start_time": "2023-01-13T05:25:54.509Z"
   },
   {
    "duration": 18,
    "start_time": "2023-01-13T05:26:08.529Z"
   },
   {
    "duration": 27,
    "start_time": "2023-01-13T05:31:03.280Z"
   },
   {
    "duration": 21,
    "start_time": "2023-01-13T05:32:32.496Z"
   },
   {
    "duration": 26,
    "start_time": "2023-01-13T05:39:29.534Z"
   },
   {
    "duration": 27,
    "start_time": "2023-01-13T05:41:10.085Z"
   },
   {
    "duration": 1599,
    "start_time": "2023-01-13T05:41:30.031Z"
   },
   {
    "duration": 100,
    "start_time": "2023-01-13T05:43:35.291Z"
   },
   {
    "duration": 36,
    "start_time": "2023-01-13T05:44:13.760Z"
   },
   {
    "duration": 97,
    "start_time": "2023-01-13T05:44:57.798Z"
   },
   {
    "duration": 93,
    "start_time": "2023-01-13T05:45:28.335Z"
   },
   {
    "duration": 18,
    "start_time": "2023-01-13T05:45:38.436Z"
   },
   {
    "duration": 28,
    "start_time": "2023-01-13T05:47:02.156Z"
   },
   {
    "duration": 16,
    "start_time": "2023-01-13T05:47:56.826Z"
   },
   {
    "duration": 86,
    "start_time": "2023-01-13T05:51:21.658Z"
   },
   {
    "duration": 12,
    "start_time": "2023-01-13T05:51:32.090Z"
   },
   {
    "duration": 17,
    "start_time": "2023-01-13T05:51:42.419Z"
   },
   {
    "duration": 16,
    "start_time": "2023-01-13T05:52:10.372Z"
   },
   {
    "duration": 14,
    "start_time": "2023-01-13T05:52:26.491Z"
   },
   {
    "duration": 19,
    "start_time": "2023-01-13T06:06:37.394Z"
   },
   {
    "duration": 16,
    "start_time": "2023-01-13T06:07:00.425Z"
   },
   {
    "duration": 7,
    "start_time": "2023-01-13T06:08:28.200Z"
   },
   {
    "duration": 26,
    "start_time": "2023-01-13T06:15:42.891Z"
   },
   {
    "duration": 25,
    "start_time": "2023-01-13T06:18:59.958Z"
   },
   {
    "duration": 12,
    "start_time": "2023-01-13T06:22:00.772Z"
   },
   {
    "duration": 25,
    "start_time": "2023-01-13T06:35:58.294Z"
   },
   {
    "duration": 25,
    "start_time": "2023-01-13T06:36:52.084Z"
   },
   {
    "duration": 15,
    "start_time": "2023-01-13T06:37:07.523Z"
   },
   {
    "duration": 17,
    "start_time": "2023-01-13T06:37:21.072Z"
   },
   {
    "duration": 18,
    "start_time": "2023-01-13T06:37:38.133Z"
   }
  ],
  "kernelspec": {
   "display_name": "Python 3 (ipykernel)",
   "language": "python",
   "name": "python3"
  },
  "language_info": {
   "codemirror_mode": {
    "name": "ipython",
    "version": 3
   },
   "file_extension": ".py",
   "mimetype": "text/x-python",
   "name": "python",
   "nbconvert_exporter": "python",
   "pygments_lexer": "ipython3",
   "version": "3.9.12"
  },
  "toc": {
   "base_numbering": 1,
   "nav_menu": {},
   "number_sections": true,
   "sideBar": true,
   "skip_h1_title": true,
   "title_cell": "Table of Contents",
   "title_sidebar": "Contents",
   "toc_cell": false,
   "toc_position": {},
   "toc_section_display": true,
   "toc_window_display": true
  }
 },
 "nbformat": 4,
 "nbformat_minor": 2
}
