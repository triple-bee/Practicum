{
 "cells": [
  {
   "cell_type": "markdown",
   "metadata": {},
   "source": [
    "# Исследование компьютерных игр"
   ]
  },
  {
   "cell_type": "markdown",
   "metadata": {},
   "source": [
    "**Задача проекта:** Вы работаете в интернет-магазине «Стримчик», который продаёт по всему миру компьютерные игры. Из открытых источников доступны исторические данные о продажах игр, оценки пользователей и экспертов, жанры и платформы (например, Xbox или PlayStation). Вам нужно выявить определяющие успешность игры закономерности. Это позволит сделать ставку на потенциально популярный продукт и спланировать рекламные кампании. Данные предоставлены до 2016 года."
   ]
  },
  {
   "cell_type": "markdown",
   "metadata": {},
   "source": [
    "**Описание данных**\n",
    "\n",
    "- *Name* — название игры\n",
    "- *Platform* — платформа\n",
    "- *Year_of_Release* — год выпуска\n",
    "- *Genre* — жанр игры\n",
    "- *NA_sales* — продажи в Северной Америке (миллионы проданных копий)\n",
    "- *EU_sales* — продажи в Европе (миллионы проданных копий)\n",
    "- *JP_sales* — продажи в Японии (миллионы проданных копий)\n",
    "- *Other_sales* — продажи в других странах (миллионы проданных копий)\n",
    "- *Critic_Score* — оценка критиков (максимум 100)\n",
    "- *User_Score* — оценка пользователей (максимум 10)\n",
    "- *Rating* — рейтинг от организации ESRB (англ. Entertainment Software Rating Board). Эта ассоциация определяет рейтинг компьютерных игр и присваивает им подходящую возрастную категорию.\n",
    "\n",
    "Данные за 2016 год могут быть неполными."
   ]
  },
  {
   "cell_type": "markdown",
   "metadata": {},
   "source": [
    "## Изучение общей информации\n"
   ]
  },
  {
   "cell_type": "code",
   "execution_count": 1,
   "metadata": {},
   "outputs": [],
   "source": [
    "import pandas as pd\n",
    "import matplotlib.pyplot as plt\n",
    "import seaborn as sns\n",
    "import numpy as np\n",
    "from scipy import stats as st"
   ]
  },
  {
   "cell_type": "code",
   "execution_count": 2,
   "metadata": {},
   "outputs": [
    {
     "data": {
      "text/html": [
       "<div>\n",
       "<style scoped>\n",
       "    .dataframe tbody tr th:only-of-type {\n",
       "        vertical-align: middle;\n",
       "    }\n",
       "\n",
       "    .dataframe tbody tr th {\n",
       "        vertical-align: top;\n",
       "    }\n",
       "\n",
       "    .dataframe thead th {\n",
       "        text-align: right;\n",
       "    }\n",
       "</style>\n",
       "<table border=\"1\" class=\"dataframe\">\n",
       "  <thead>\n",
       "    <tr style=\"text-align: right;\">\n",
       "      <th></th>\n",
       "      <th>Name</th>\n",
       "      <th>Platform</th>\n",
       "      <th>Year_of_Release</th>\n",
       "      <th>Genre</th>\n",
       "      <th>NA_sales</th>\n",
       "      <th>EU_sales</th>\n",
       "      <th>JP_sales</th>\n",
       "      <th>Other_sales</th>\n",
       "      <th>Critic_Score</th>\n",
       "      <th>User_Score</th>\n",
       "      <th>Rating</th>\n",
       "    </tr>\n",
       "  </thead>\n",
       "  <tbody>\n",
       "    <tr>\n",
       "      <th>0</th>\n",
       "      <td>Wii Sports</td>\n",
       "      <td>Wii</td>\n",
       "      <td>2006.0</td>\n",
       "      <td>Sports</td>\n",
       "      <td>41.36</td>\n",
       "      <td>28.96</td>\n",
       "      <td>3.77</td>\n",
       "      <td>8.45</td>\n",
       "      <td>76.0</td>\n",
       "      <td>8</td>\n",
       "      <td>E</td>\n",
       "    </tr>\n",
       "    <tr>\n",
       "      <th>1</th>\n",
       "      <td>Super Mario Bros.</td>\n",
       "      <td>NES</td>\n",
       "      <td>1985.0</td>\n",
       "      <td>Platform</td>\n",
       "      <td>29.08</td>\n",
       "      <td>3.58</td>\n",
       "      <td>6.81</td>\n",
       "      <td>0.77</td>\n",
       "      <td>NaN</td>\n",
       "      <td>NaN</td>\n",
       "      <td>NaN</td>\n",
       "    </tr>\n",
       "    <tr>\n",
       "      <th>2</th>\n",
       "      <td>Mario Kart Wii</td>\n",
       "      <td>Wii</td>\n",
       "      <td>2008.0</td>\n",
       "      <td>Racing</td>\n",
       "      <td>15.68</td>\n",
       "      <td>12.76</td>\n",
       "      <td>3.79</td>\n",
       "      <td>3.29</td>\n",
       "      <td>82.0</td>\n",
       "      <td>8.3</td>\n",
       "      <td>E</td>\n",
       "    </tr>\n",
       "    <tr>\n",
       "      <th>3</th>\n",
       "      <td>Wii Sports Resort</td>\n",
       "      <td>Wii</td>\n",
       "      <td>2009.0</td>\n",
       "      <td>Sports</td>\n",
       "      <td>15.61</td>\n",
       "      <td>10.93</td>\n",
       "      <td>3.28</td>\n",
       "      <td>2.95</td>\n",
       "      <td>80.0</td>\n",
       "      <td>8</td>\n",
       "      <td>E</td>\n",
       "    </tr>\n",
       "    <tr>\n",
       "      <th>4</th>\n",
       "      <td>Pokemon Red/Pokemon Blue</td>\n",
       "      <td>GB</td>\n",
       "      <td>1996.0</td>\n",
       "      <td>Role-Playing</td>\n",
       "      <td>11.27</td>\n",
       "      <td>8.89</td>\n",
       "      <td>10.22</td>\n",
       "      <td>1.00</td>\n",
       "      <td>NaN</td>\n",
       "      <td>NaN</td>\n",
       "      <td>NaN</td>\n",
       "    </tr>\n",
       "  </tbody>\n",
       "</table>\n",
       "</div>"
      ],
      "text/plain": [
       "                       Name Platform  Year_of_Release         Genre  NA_sales  \\\n",
       "0                Wii Sports      Wii           2006.0        Sports     41.36   \n",
       "1         Super Mario Bros.      NES           1985.0      Platform     29.08   \n",
       "2            Mario Kart Wii      Wii           2008.0        Racing     15.68   \n",
       "3         Wii Sports Resort      Wii           2009.0        Sports     15.61   \n",
       "4  Pokemon Red/Pokemon Blue       GB           1996.0  Role-Playing     11.27   \n",
       "\n",
       "   EU_sales  JP_sales  Other_sales  Critic_Score User_Score Rating  \n",
       "0     28.96      3.77         8.45          76.0          8      E  \n",
       "1      3.58      6.81         0.77           NaN        NaN    NaN  \n",
       "2     12.76      3.79         3.29          82.0        8.3      E  \n",
       "3     10.93      3.28         2.95          80.0          8      E  \n",
       "4      8.89     10.22         1.00           NaN        NaN    NaN  "
      ]
     },
     "execution_count": 2,
     "metadata": {},
     "output_type": "execute_result"
    }
   ],
   "source": [
    "try:\n",
    "    data = pd.read_csv('games.csv', sep=',')\n",
    "except Exception:\n",
    "    data = pd.read_csv('/datasets/games.csv', ',')\n",
    "data.head()"
   ]
  },
  {
   "cell_type": "code",
   "execution_count": 3,
   "metadata": {},
   "outputs": [
    {
     "name": "stdout",
     "output_type": "stream",
     "text": [
      "<class 'pandas.core.frame.DataFrame'>\n",
      "RangeIndex: 16715 entries, 0 to 16714\n",
      "Data columns (total 11 columns):\n",
      " #   Column           Non-Null Count  Dtype  \n",
      "---  ------           --------------  -----  \n",
      " 0   Name             16713 non-null  object \n",
      " 1   Platform         16715 non-null  object \n",
      " 2   Year_of_Release  16446 non-null  float64\n",
      " 3   Genre            16713 non-null  object \n",
      " 4   NA_sales         16715 non-null  float64\n",
      " 5   EU_sales         16715 non-null  float64\n",
      " 6   JP_sales         16715 non-null  float64\n",
      " 7   Other_sales      16715 non-null  float64\n",
      " 8   Critic_Score     8137 non-null   float64\n",
      " 9   User_Score       10014 non-null  object \n",
      " 10  Rating           9949 non-null   object \n",
      "dtypes: float64(6), object(5)\n",
      "memory usage: 1.4+ MB\n"
     ]
    }
   ],
   "source": [
    "data.info()"
   ]
  },
  {
   "cell_type": "code",
   "execution_count": 4,
   "metadata": {},
   "outputs": [],
   "source": [
    "def pass_value_barh(df):\n",
    "    (\n",
    "        (df.isna().mean()*100)\n",
    "        .to_frame()\n",
    "        .rename(columns = {0:'space'})\n",
    "        .query('space > 0')\n",
    "        .sort_values(by = 'space', ascending = True)\n",
    "        .plot(kind= 'barh', figsize=(19,6), legend = False, fontsize = 16)\n",
    "        .set_title('Процент пропусков по колонкам' + \"\\n\", fontsize = 22, color = 'SteelBlue')    \n",
    "    );    "
   ]
  },
  {
   "cell_type": "code",
   "execution_count": 5,
   "metadata": {},
   "outputs": [
    {
     "data": {
      "image/png": "[encoded data removed]",
      "text/plain": [
       "<Figure size 1368x432 with 1 Axes>"
      ]
     },
     "metadata": {
      "needs_background": "light"
     },
     "output_type": "display_data"
    }
   ],
   "source": [
    "pass_value_barh(data)"
   ]
  },
  {
   "cell_type": "markdown",
   "metadata": {},
   "source": [
    "## Подготовка данных"
   ]
  },
  {
   "cell_type": "markdown",
   "metadata": {},
   "source": [
    "Приводим навания столбцов к нижнему регистру"
   ]
  },
  {
   "cell_type": "code",
   "execution_count": 6,
   "metadata": {},
   "outputs": [],
   "source": [
    "data.columns = data.columns.str.lower()"
   ]
  },
  {
   "cell_type": "code",
   "execution_count": 7,
   "metadata": {
    "scrolled": true
   },
   "outputs": [
    {
     "data": {
      "text/html": [
       "<div>\n",
       "<style scoped>\n",
       "    .dataframe tbody tr th:only-of-type {\n",
       "        vertical-align: middle;\n",
       "    }\n",
       "\n",
       "    .dataframe tbody tr th {\n",
       "        vertical-align: top;\n",
       "    }\n",
       "\n",
       "    .dataframe thead th {\n",
       "        text-align: right;\n",
       "    }\n",
       "</style>\n",
       "<table border=\"1\" class=\"dataframe\">\n",
       "  <thead>\n",
       "    <tr style=\"text-align: right;\">\n",
       "      <th></th>\n",
       "      <th>name</th>\n",
       "      <th>platform</th>\n",
       "      <th>year_of_release</th>\n",
       "      <th>genre</th>\n",
       "      <th>na_sales</th>\n",
       "      <th>eu_sales</th>\n",
       "      <th>jp_sales</th>\n",
       "      <th>other_sales</th>\n",
       "      <th>critic_score</th>\n",
       "      <th>user_score</th>\n",
       "      <th>rating</th>\n",
       "    </tr>\n",
       "  </thead>\n",
       "  <tbody>\n",
       "    <tr>\n",
       "      <th>0</th>\n",
       "      <td>Wii Sports</td>\n",
       "      <td>Wii</td>\n",
       "      <td>2006.0</td>\n",
       "      <td>Sports</td>\n",
       "      <td>41.36</td>\n",
       "      <td>28.96</td>\n",
       "      <td>3.77</td>\n",
       "      <td>8.45</td>\n",
       "      <td>76.0</td>\n",
       "      <td>8</td>\n",
       "      <td>E</td>\n",
       "    </tr>\n",
       "    <tr>\n",
       "      <th>1</th>\n",
       "      <td>Super Mario Bros.</td>\n",
       "      <td>NES</td>\n",
       "      <td>1985.0</td>\n",
       "      <td>Platform</td>\n",
       "      <td>29.08</td>\n",
       "      <td>3.58</td>\n",
       "      <td>6.81</td>\n",
       "      <td>0.77</td>\n",
       "      <td>NaN</td>\n",
       "      <td>NaN</td>\n",
       "      <td>NaN</td>\n",
       "    </tr>\n",
       "    <tr>\n",
       "      <th>2</th>\n",
       "      <td>Mario Kart Wii</td>\n",
       "      <td>Wii</td>\n",
       "      <td>2008.0</td>\n",
       "      <td>Racing</td>\n",
       "      <td>15.68</td>\n",
       "      <td>12.76</td>\n",
       "      <td>3.79</td>\n",
       "      <td>3.29</td>\n",
       "      <td>82.0</td>\n",
       "      <td>8.3</td>\n",
       "      <td>E</td>\n",
       "    </tr>\n",
       "    <tr>\n",
       "      <th>3</th>\n",
       "      <td>Wii Sports Resort</td>\n",
       "      <td>Wii</td>\n",
       "      <td>2009.0</td>\n",
       "      <td>Sports</td>\n",
       "      <td>15.61</td>\n",
       "      <td>10.93</td>\n",
       "      <td>3.28</td>\n",
       "      <td>2.95</td>\n",
       "      <td>80.0</td>\n",
       "      <td>8</td>\n",
       "      <td>E</td>\n",
       "    </tr>\n",
       "    <tr>\n",
       "      <th>4</th>\n",
       "      <td>Pokemon Red/Pokemon Blue</td>\n",
       "      <td>GB</td>\n",
       "      <td>1996.0</td>\n",
       "      <td>Role-Playing</td>\n",
       "      <td>11.27</td>\n",
       "      <td>8.89</td>\n",
       "      <td>10.22</td>\n",
       "      <td>1.00</td>\n",
       "      <td>NaN</td>\n",
       "      <td>NaN</td>\n",
       "      <td>NaN</td>\n",
       "    </tr>\n",
       "  </tbody>\n",
       "</table>\n",
       "</div>"
      ],
      "text/plain": [
       "                       name platform  year_of_release         genre  na_sales  \\\n",
       "0                Wii Sports      Wii           2006.0        Sports     41.36   \n",
       "1         Super Mario Bros.      NES           1985.0      Platform     29.08   \n",
       "2            Mario Kart Wii      Wii           2008.0        Racing     15.68   \n",
       "3         Wii Sports Resort      Wii           2009.0        Sports     15.61   \n",
       "4  Pokemon Red/Pokemon Blue       GB           1996.0  Role-Playing     11.27   \n",
       "\n",
       "   eu_sales  jp_sales  other_sales  critic_score user_score rating  \n",
       "0     28.96      3.77         8.45          76.0          8      E  \n",
       "1      3.58      6.81         0.77           NaN        NaN    NaN  \n",
       "2     12.76      3.79         3.29          82.0        8.3      E  \n",
       "3     10.93      3.28         2.95          80.0          8      E  \n",
       "4      8.89     10.22         1.00           NaN        NaN    NaN  "
      ]
     },
     "execution_count": 7,
     "metadata": {},
     "output_type": "execute_result"
    }
   ],
   "source": [
    "data.head()"
   ]
  },
  {
   "cell_type": "markdown",
   "metadata": {},
   "source": [
    "Перед тем как менять тип данных избавимся от пропусков там, где это возможно. В столбце `year_of_release` есть пропуски, но их менее 5% от общего объема данных, что не является критичным."
   ]
  },
  {
   "cell_type": "code",
   "execution_count": 8,
   "metadata": {},
   "outputs": [
    {
     "name": "stdout",
     "output_type": "stream",
     "text": [
      "1.6 %\n"
     ]
    }
   ],
   "source": [
    "print(round(len(data.query('year_of_release.isnull()')) / len(data) * 100, 1), '%')"
   ]
  },
  {
   "cell_type": "code",
   "execution_count": 9,
   "metadata": {},
   "outputs": [],
   "source": [
    "data = data.dropna(subset=['year_of_release'])"
   ]
  },
  {
   "cell_type": "markdown",
   "metadata": {},
   "source": [
    "Проверим пропуски в столбце `name` и `genre`. Так как это две строки в которых пропуски в сразу в двух этих столбцах, их тоже удаляем.\n"
   ]
  },
  {
   "cell_type": "code",
   "execution_count": 10,
   "metadata": {},
   "outputs": [
    {
     "data": {
      "text/html": [
       "<div>\n",
       "<style scoped>\n",
       "    .dataframe tbody tr th:only-of-type {\n",
       "        vertical-align: middle;\n",
       "    }\n",
       "\n",
       "    .dataframe tbody tr th {\n",
       "        vertical-align: top;\n",
       "    }\n",
       "\n",
       "    .dataframe thead th {\n",
       "        text-align: right;\n",
       "    }\n",
       "</style>\n",
       "<table border=\"1\" class=\"dataframe\">\n",
       "  <thead>\n",
       "    <tr style=\"text-align: right;\">\n",
       "      <th></th>\n",
       "      <th>name</th>\n",
       "      <th>platform</th>\n",
       "      <th>year_of_release</th>\n",
       "      <th>genre</th>\n",
       "      <th>na_sales</th>\n",
       "      <th>eu_sales</th>\n",
       "      <th>jp_sales</th>\n",
       "      <th>other_sales</th>\n",
       "      <th>critic_score</th>\n",
       "      <th>user_score</th>\n",
       "      <th>rating</th>\n",
       "    </tr>\n",
       "  </thead>\n",
       "  <tbody>\n",
       "    <tr>\n",
       "      <th>659</th>\n",
       "      <td>NaN</td>\n",
       "      <td>GEN</td>\n",
       "      <td>1993.0</td>\n",
       "      <td>NaN</td>\n",
       "      <td>1.78</td>\n",
       "      <td>0.53</td>\n",
       "      <td>0.00</td>\n",
       "      <td>0.08</td>\n",
       "      <td>NaN</td>\n",
       "      <td>NaN</td>\n",
       "      <td>NaN</td>\n",
       "    </tr>\n",
       "    <tr>\n",
       "      <th>14244</th>\n",
       "      <td>NaN</td>\n",
       "      <td>GEN</td>\n",
       "      <td>1993.0</td>\n",
       "      <td>NaN</td>\n",
       "      <td>0.00</td>\n",
       "      <td>0.00</td>\n",
       "      <td>0.03</td>\n",
       "      <td>0.00</td>\n",
       "      <td>NaN</td>\n",
       "      <td>NaN</td>\n",
       "      <td>NaN</td>\n",
       "    </tr>\n",
       "  </tbody>\n",
       "</table>\n",
       "</div>"
      ],
      "text/plain": [
       "      name platform  year_of_release genre  na_sales  eu_sales  jp_sales  \\\n",
       "659    NaN      GEN           1993.0   NaN      1.78      0.53      0.00   \n",
       "14244  NaN      GEN           1993.0   NaN      0.00      0.00      0.03   \n",
       "\n",
       "       other_sales  critic_score user_score rating  \n",
       "659           0.08           NaN        NaN    NaN  \n",
       "14244         0.00           NaN        NaN    NaN  "
      ]
     },
     "execution_count": 10,
     "metadata": {},
     "output_type": "execute_result"
    }
   ],
   "source": [
    "data[data['name'].isna()]"
   ]
  },
  {
   "cell_type": "code",
   "execution_count": 11,
   "metadata": {},
   "outputs": [],
   "source": [
    "data = data.dropna(subset=['name'])"
   ]
  },
  {
   "cell_type": "code",
   "execution_count": 12,
   "metadata": {},
   "outputs": [
    {
     "name": "stdout",
     "output_type": "stream",
     "text": [
      "<class 'pandas.core.frame.DataFrame'>\n",
      "Int64Index: 16444 entries, 0 to 16714\n",
      "Data columns (total 11 columns):\n",
      " #   Column           Non-Null Count  Dtype  \n",
      "---  ------           --------------  -----  \n",
      " 0   name             16444 non-null  object \n",
      " 1   platform         16444 non-null  object \n",
      " 2   year_of_release  16444 non-null  float64\n",
      " 3   genre            16444 non-null  object \n",
      " 4   na_sales         16444 non-null  float64\n",
      " 5   eu_sales         16444 non-null  float64\n",
      " 6   jp_sales         16444 non-null  float64\n",
      " 7   other_sales      16444 non-null  float64\n",
      " 8   critic_score     7983 non-null   float64\n",
      " 9   user_score       9839 non-null   object \n",
      " 10  rating           9768 non-null   object \n",
      "dtypes: float64(6), object(5)\n",
      "memory usage: 1.5+ MB\n"
     ]
    }
   ],
   "source": [
    "data.info()"
   ]
  },
  {
   "cell_type": "markdown",
   "metadata": {},
   "source": [
    "Рассмотри пропуски в столбцах `critic_score`, `user_score` и `rating`. Заполнять пропуски медианными или средними значениями в `critic_score` и `user_score`некорректно, так как их более 40% и это исказит данные. Столбец `rating` оставим в исходном виде, так как это рейтинг от организации ESRB и спрогнозировать его на основе имеющихся данных нельзя. "
   ]
  },
  {
   "cell_type": "code",
   "execution_count": 13,
   "metadata": {},
   "outputs": [
    {
     "data": {
      "text/plain": [
       "array([76., nan, 82., 80., 89., 58., 87., 91., 61., 97., 95., 77., 88.,\n",
       "       83., 94., 93., 85., 86., 98., 96., 90., 84., 73., 74., 78., 92.,\n",
       "       71., 72., 68., 62., 49., 67., 81., 66., 56., 79., 70., 59., 64.,\n",
       "       75., 60., 63., 69., 50., 25., 42., 44., 55., 48., 57., 29., 47.,\n",
       "       65., 54., 20., 53., 37., 38., 33., 52., 30., 32., 43., 45., 51.,\n",
       "       40., 46., 39., 34., 41., 36., 31., 27., 35., 26., 19., 28., 23.,\n",
       "       24., 21., 17., 13.])"
      ]
     },
     "execution_count": 13,
     "metadata": {},
     "output_type": "execute_result"
    }
   ],
   "source": [
    "data['critic_score'].unique()"
   ]
  },
  {
   "cell_type": "code",
   "execution_count": 14,
   "metadata": {},
   "outputs": [
    {
     "data": {
      "text/plain": [
       "array(['8', nan, '8.3', '8.5', '6.6', '8.4', '8.6', '7.7', '6.3', '7.4',\n",
       "       '8.2', '9', '7.9', '8.1', '8.7', '7.1', '3.4', '5.3', '4.8', '3.2',\n",
       "       '8.9', '6.4', '7.8', '7.5', '2.6', '7.2', '9.2', '7', '7.3', '4.3',\n",
       "       '7.6', '5.7', '5', '9.1', '6.5', 'tbd', '8.8', '6.9', '9.4', '6.8',\n",
       "       '6.1', '6.7', '5.4', '4', '4.9', '4.5', '9.3', '6.2', '4.2', '6',\n",
       "       '3.7', '4.1', '5.8', '5.6', '5.5', '4.4', '4.6', '5.9', '3.9',\n",
       "       '3.1', '2.9', '5.2', '3.3', '4.7', '5.1', '3.5', '2.5', '1.9', '3',\n",
       "       '2.7', '2.2', '2', '9.5', '2.1', '3.6', '2.8', '1.8', '3.8', '0',\n",
       "       '1.6', '9.6', '2.4', '1.7', '1.1', '0.3', '1.5', '0.7', '1.2',\n",
       "       '2.3', '0.5', '1.3', '0.2', '0.6', '1.4', '0.9', '1', '9.7'],\n",
       "      dtype=object)"
      ]
     },
     "execution_count": 14,
     "metadata": {},
     "output_type": "execute_result"
    }
   ],
   "source": [
    "data['user_score'].unique()"
   ]
  },
  {
   "cell_type": "markdown",
   "metadata": {},
   "source": [
    "Значение 'tbd' означет что оценка будет проставлена позже. Соответственно эти данные мы можем обозначить как пропуски."
   ]
  },
  {
   "cell_type": "code",
   "execution_count": 15,
   "metadata": {},
   "outputs": [],
   "source": [
    "data['user_score'] = data['user_score'].replace('tbd', np.nan)"
   ]
  },
  {
   "cell_type": "markdown",
   "metadata": {},
   "source": [
    "Теперь изменим типы данных, чтобы в дальнейшем с ними было удобнее работать\n"
   ]
  },
  {
   "cell_type": "code",
   "execution_count": 16,
   "metadata": {},
   "outputs": [],
   "source": [
    "data['year_of_release'] = data['year_of_release'].astype('int')\n",
    "data['user_score'] = data['user_score'].astype('float')"
   ]
  },
  {
   "cell_type": "code",
   "execution_count": 17,
   "metadata": {},
   "outputs": [
    {
     "name": "stdout",
     "output_type": "stream",
     "text": [
      "<class 'pandas.core.frame.DataFrame'>\n",
      "Int64Index: 16444 entries, 0 to 16714\n",
      "Data columns (total 11 columns):\n",
      " #   Column           Non-Null Count  Dtype  \n",
      "---  ------           --------------  -----  \n",
      " 0   name             16444 non-null  object \n",
      " 1   platform         16444 non-null  object \n",
      " 2   year_of_release  16444 non-null  int64  \n",
      " 3   genre            16444 non-null  object \n",
      " 4   na_sales         16444 non-null  float64\n",
      " 5   eu_sales         16444 non-null  float64\n",
      " 6   jp_sales         16444 non-null  float64\n",
      " 7   other_sales      16444 non-null  float64\n",
      " 8   critic_score     7983 non-null   float64\n",
      " 9   user_score       7463 non-null   float64\n",
      " 10  rating           9768 non-null   object \n",
      "dtypes: float64(6), int64(1), object(4)\n",
      "memory usage: 1.5+ MB\n"
     ]
    }
   ],
   "source": [
    "data.info()"
   ]
  },
  {
   "cell_type": "markdown",
   "metadata": {},
   "source": [
    "Далее посчитаем суммарные продажи во всех регионах для каждой игры и запишем в отдельный столбец `total_sales`"
   ]
  },
  {
   "cell_type": "code",
   "execution_count": 18,
   "metadata": {},
   "outputs": [],
   "source": [
    "data['total_sales'] = data['na_sales'] + data['eu_sales'] + data['jp_sales'] + data['other_sales']"
   ]
  },
  {
   "cell_type": "code",
   "execution_count": 19,
   "metadata": {},
   "outputs": [
    {
     "data": {
      "text/html": [
       "<div>\n",
       "<style scoped>\n",
       "    .dataframe tbody tr th:only-of-type {\n",
       "        vertical-align: middle;\n",
       "    }\n",
       "\n",
       "    .dataframe tbody tr th {\n",
       "        vertical-align: top;\n",
       "    }\n",
       "\n",
       "    .dataframe thead th {\n",
       "        text-align: right;\n",
       "    }\n",
       "</style>\n",
       "<table border=\"1\" class=\"dataframe\">\n",
       "  <thead>\n",
       "    <tr style=\"text-align: right;\">\n",
       "      <th></th>\n",
       "      <th>name</th>\n",
       "      <th>platform</th>\n",
       "      <th>year_of_release</th>\n",
       "      <th>genre</th>\n",
       "      <th>na_sales</th>\n",
       "      <th>eu_sales</th>\n",
       "      <th>jp_sales</th>\n",
       "      <th>other_sales</th>\n",
       "      <th>critic_score</th>\n",
       "      <th>user_score</th>\n",
       "      <th>rating</th>\n",
       "      <th>total_sales</th>\n",
       "    </tr>\n",
       "  </thead>\n",
       "  <tbody>\n",
       "    <tr>\n",
       "      <th>0</th>\n",
       "      <td>Wii Sports</td>\n",
       "      <td>Wii</td>\n",
       "      <td>2006</td>\n",
       "      <td>Sports</td>\n",
       "      <td>41.36</td>\n",
       "      <td>28.96</td>\n",
       "      <td>3.77</td>\n",
       "      <td>8.45</td>\n",
       "      <td>76.0</td>\n",
       "      <td>8.0</td>\n",
       "      <td>E</td>\n",
       "      <td>82.54</td>\n",
       "    </tr>\n",
       "    <tr>\n",
       "      <th>1</th>\n",
       "      <td>Super Mario Bros.</td>\n",
       "      <td>NES</td>\n",
       "      <td>1985</td>\n",
       "      <td>Platform</td>\n",
       "      <td>29.08</td>\n",
       "      <td>3.58</td>\n",
       "      <td>6.81</td>\n",
       "      <td>0.77</td>\n",
       "      <td>NaN</td>\n",
       "      <td>NaN</td>\n",
       "      <td>NaN</td>\n",
       "      <td>40.24</td>\n",
       "    </tr>\n",
       "    <tr>\n",
       "      <th>2</th>\n",
       "      <td>Mario Kart Wii</td>\n",
       "      <td>Wii</td>\n",
       "      <td>2008</td>\n",
       "      <td>Racing</td>\n",
       "      <td>15.68</td>\n",
       "      <td>12.76</td>\n",
       "      <td>3.79</td>\n",
       "      <td>3.29</td>\n",
       "      <td>82.0</td>\n",
       "      <td>8.3</td>\n",
       "      <td>E</td>\n",
       "      <td>35.52</td>\n",
       "    </tr>\n",
       "    <tr>\n",
       "      <th>3</th>\n",
       "      <td>Wii Sports Resort</td>\n",
       "      <td>Wii</td>\n",
       "      <td>2009</td>\n",
       "      <td>Sports</td>\n",
       "      <td>15.61</td>\n",
       "      <td>10.93</td>\n",
       "      <td>3.28</td>\n",
       "      <td>2.95</td>\n",
       "      <td>80.0</td>\n",
       "      <td>8.0</td>\n",
       "      <td>E</td>\n",
       "      <td>32.77</td>\n",
       "    </tr>\n",
       "    <tr>\n",
       "      <th>4</th>\n",
       "      <td>Pokemon Red/Pokemon Blue</td>\n",
       "      <td>GB</td>\n",
       "      <td>1996</td>\n",
       "      <td>Role-Playing</td>\n",
       "      <td>11.27</td>\n",
       "      <td>8.89</td>\n",
       "      <td>10.22</td>\n",
       "      <td>1.00</td>\n",
       "      <td>NaN</td>\n",
       "      <td>NaN</td>\n",
       "      <td>NaN</td>\n",
       "      <td>31.38</td>\n",
       "    </tr>\n",
       "  </tbody>\n",
       "</table>\n",
       "</div>"
      ],
      "text/plain": [
       "                       name platform  year_of_release         genre  na_sales  \\\n",
       "0                Wii Sports      Wii             2006        Sports     41.36   \n",
       "1         Super Mario Bros.      NES             1985      Platform     29.08   \n",
       "2            Mario Kart Wii      Wii             2008        Racing     15.68   \n",
       "3         Wii Sports Resort      Wii             2009        Sports     15.61   \n",
       "4  Pokemon Red/Pokemon Blue       GB             1996  Role-Playing     11.27   \n",
       "\n",
       "   eu_sales  jp_sales  other_sales  critic_score  user_score rating  \\\n",
       "0     28.96      3.77         8.45          76.0         8.0      E   \n",
       "1      3.58      6.81         0.77           NaN         NaN    NaN   \n",
       "2     12.76      3.79         3.29          82.0         8.3      E   \n",
       "3     10.93      3.28         2.95          80.0         8.0      E   \n",
       "4      8.89     10.22         1.00           NaN         NaN    NaN   \n",
       "\n",
       "   total_sales  \n",
       "0        82.54  \n",
       "1        40.24  \n",
       "2        35.52  \n",
       "3        32.77  \n",
       "4        31.38  "
      ]
     },
     "execution_count": 19,
     "metadata": {},
     "output_type": "execute_result"
    }
   ],
   "source": [
    "data.head()"
   ]
  },
  {
   "cell_type": "markdown",
   "metadata": {},
   "source": [
    "Посмотрим на оставшиеся пропуски по столбцам."
   ]
  },
  {
   "cell_type": "code",
   "execution_count": 20,
   "metadata": {
    "scrolled": false
   },
   "outputs": [
    {
     "name": "stdout",
     "output_type": "stream",
     "text": [
      "<class 'pandas.core.frame.DataFrame'>\n",
      "Int64Index: 16444 entries, 0 to 16714\n",
      "Data columns (total 12 columns):\n",
      " #   Column           Non-Null Count  Dtype  \n",
      "---  ------           --------------  -----  \n",
      " 0   name             16444 non-null  object \n",
      " 1   platform         16444 non-null  object \n",
      " 2   year_of_release  16444 non-null  int64  \n",
      " 3   genre            16444 non-null  object \n",
      " 4   na_sales         16444 non-null  float64\n",
      " 5   eu_sales         16444 non-null  float64\n",
      " 6   jp_sales         16444 non-null  float64\n",
      " 7   other_sales      16444 non-null  float64\n",
      " 8   critic_score     7983 non-null   float64\n",
      " 9   user_score       7463 non-null   float64\n",
      " 10  rating           9768 non-null   object \n",
      " 11  total_sales      16444 non-null  float64\n",
      "dtypes: float64(7), int64(1), object(4)\n",
      "memory usage: 1.6+ MB\n",
      "None\n",
      "-------------------------\n",
      "name [' Beyblade Burst' ' Fire Emblem Fates' \" Frozen: Olaf's Quest\" ...\n",
      " 'uDraw Studio' 'uDraw Studio: Instant Artist'\n",
      " '¡Shin Chan Flipa en colores!']\n",
      "name : кол-во NaN 0 , процент NaN 0.0 %\n",
      "-------------------------\n",
      "platform ['2600' '3DO' '3DS' 'DC' 'DS' 'GB' 'GBA' 'GC' 'GEN' 'GG' 'N64' 'NES' 'NG'\n",
      " 'PC' 'PCFX' 'PS' 'PS2' 'PS3' 'PS4' 'PSP' 'PSV' 'SAT' 'SCD' 'SNES' 'TG16'\n",
      " 'WS' 'Wii' 'WiiU' 'X360' 'XB' 'XOne']\n",
      "platform : кол-во NaN 0 , процент NaN 0.0 %\n",
      "-------------------------\n",
      "year_of_release [1980 1981 1982 1983 1984 1985 1986 1987 1988 1989 1990 1991 1992 1993\n",
      " 1994 1995 1996 1997 1998 1999 2000 2001 2002 2003 2004 2005 2006 2007\n",
      " 2008 2009 2010 2011 2012 2013 2014 2015 2016]\n",
      "year_of_release : кол-во NaN 0 , процент NaN 0.0 %\n",
      "-------------------------\n",
      "genre ['Action' 'Adventure' 'Fighting' 'Misc' 'Platform' 'Puzzle' 'Racing'\n",
      " 'Role-Playing' 'Shooter' 'Simulation' 'Sports' 'Strategy']\n",
      "genre : кол-во NaN 0 , процент NaN 0.0 %\n",
      "-------------------------\n",
      "critic_score [13. 17. 19. 20. 21. 23. 24. 25. 26. 27. 28. 29. 30. 31. 32. 33. 34. 35.\n",
      " 36. 37. 38. 39. 40. 41. 42. 43. 44. 45. 46. 47. 48. 49. 50. 51. 52. 53.\n",
      " 54. 55. 56. 57. 58. 59. 60. 61. 62. 63. 64. 65. 66. 67. 68. 69. 70. 71.\n",
      " 72. 73. 74. 75. 76. 77. 78. 79. 80. 81. 82. 83. 84. 85. 86. 87. 88. 89.\n",
      " 90. 91. 92. 93. 94. 95. 96. 97. 98. nan]\n",
      "critic_score : кол-во NaN 8461 , процент NaN 51.45 %\n",
      "-------------------------\n",
      "user_score [0.  0.2 0.3 0.5 0.6 0.7 0.9 1.  1.1 1.2 1.3 1.4 1.5 1.6 1.7 1.8 1.9 2.\n",
      " 2.1 2.2 2.3 2.4 2.5 2.6 2.7 2.8 2.9 3.  3.1 3.2 3.3 3.4 3.5 3.6 3.7 3.8\n",
      " 3.9 4.  4.1 4.2 4.3 4.4 4.5 4.6 4.7 4.8 4.9 5.  5.1 5.2 5.3 5.4 5.5 5.6\n",
      " 5.7 5.8 5.9 6.  6.1 6.2 6.3 6.4 6.5 6.6 6.7 6.8 6.9 7.  7.1 7.2 7.3 7.4\n",
      " 7.5 7.6 7.7 7.8 7.9 8.  8.1 8.2 8.3 8.4 8.5 8.6 8.7 8.8 8.9 9.  9.1 9.2\n",
      " 9.3 9.4 9.5 9.6 9.7 nan]\n",
      "user_score : кол-во NaN 8981 , процент NaN 54.62 %\n",
      "-------------------------\n",
      "rating ['AO' 'E' 'E10+' 'EC' 'K-A' 'M' 'RP' 'T' nan]\n",
      "rating : кол-во NaN 6676 , процент NaN 40.6 %\n"
     ]
    }
   ],
   "source": [
    "temp = data.copy() \n",
    "list_c = ['name', 'platform', 'year_of_release', 'genre', 'critic_score', 'user_score', 'rating']\n",
    "print(temp.info())\n",
    "for col_l in list_c:\n",
    "  print('-'* 25)\n",
    "  print(col_l, temp[col_l].sort_values().unique())\n",
    "  print(col_l,': кол-во NaN',temp[col_l].isna().sum(),\n",
    "        ', процент NaN', round(temp[col_l].isna().sum()/len(temp)*100, 2),'%')"
   ]
  },
  {
   "cell_type": "markdown",
   "metadata": {},
   "source": [
    "Рассмотрим пропуски в столбце с рейтингом ESRB. Пропуски в этой колонке не являются просто ошибкой заполнения данных, а несут определенную информацию. Что бы проанализировать ее, на пропуски следует поставить заглушку."
   ]
  },
  {
   "cell_type": "code",
   "execution_count": 21,
   "metadata": {},
   "outputs": [],
   "source": [
    "data['rating'] = data['rating'].fillna('no_rating')"
   ]
  },
  {
   "cell_type": "markdown",
   "metadata": {},
   "source": [
    "## Исследовательский анализ данных"
   ]
  },
  {
   "cell_type": "markdown",
   "metadata": {},
   "source": [
    "### Посмотрим, сколько игр выпускалось в разные годы"
   ]
  },
  {
   "cell_type": "code",
   "execution_count": 22,
   "metadata": {},
   "outputs": [
    {
     "data": {
      "image/png": "[encoded data removed]",
      "text/plain": [
       "<Figure size 432x288 with 1 Axes>"
      ]
     },
     "metadata": {
      "needs_background": "light"
     },
     "output_type": "display_data"
    }
   ],
   "source": [
    "(\n",
    "    data.pivot_table(index='year_of_release', values='name', aggfunc='count')\n",
    "    .reset_index()\n",
    "    .plot(x='year_of_release', y='name', title='Количество выпущенных игр в год')\n",
    ");\n",
    "plt.xlabel('Год');\n",
    "plt.ylabel('Количество выпущенных игр');"
   ]
  },
  {
   "cell_type": "markdown",
   "metadata": {},
   "source": [
    "Мы видим рост количества выпускаемых игр после 2000 года. Пик приходится на 2007-2008 года. До 1998 года выпускалось заметно меньшее количество игр, так же эти игры, скорее всего, на 2016 г. являются устаревшими, так как выпускались с использованием старых технологий. Брать их в расчет строя прогнозы на 2017 г., на мой взгляд, не стоит."
   ]
  },
  {
   "cell_type": "markdown",
   "metadata": {},
   "source": [
    "### Узнаем, как менялись продажи по платформам"
   ]
  },
  {
   "cell_type": "markdown",
   "metadata": {},
   "source": [
    "Сделаем сводную таблицу и выделим платформы с наибольшими суммарными продажами"
   ]
  },
  {
   "cell_type": "code",
   "execution_count": 23,
   "metadata": {},
   "outputs": [],
   "source": [
    "top_platforms = data.pivot_table(index='platform', values='total_sales', aggfunc='sum').sort_values(by='total_sales', ascending=False)[:6]\n",
    "top_platform_names = top_platforms.index"
   ]
  },
  {
   "cell_type": "code",
   "execution_count": 24,
   "metadata": {
    "scrolled": true
   },
   "outputs": [
    {
     "data": {
      "text/html": [
       "<div>\n",
       "<style scoped>\n",
       "    .dataframe tbody tr th:only-of-type {\n",
       "        vertical-align: middle;\n",
       "    }\n",
       "\n",
       "    .dataframe tbody tr th {\n",
       "        vertical-align: top;\n",
       "    }\n",
       "\n",
       "    .dataframe thead th {\n",
       "        text-align: right;\n",
       "    }\n",
       "</style>\n",
       "<table border=\"1\" class=\"dataframe\">\n",
       "  <thead>\n",
       "    <tr style=\"text-align: right;\">\n",
       "      <th>year_of_release</th>\n",
       "      <th>1985</th>\n",
       "      <th>1994</th>\n",
       "      <th>1995</th>\n",
       "      <th>1996</th>\n",
       "      <th>1997</th>\n",
       "      <th>1998</th>\n",
       "      <th>1999</th>\n",
       "      <th>2000</th>\n",
       "      <th>2001</th>\n",
       "      <th>2002</th>\n",
       "      <th>...</th>\n",
       "      <th>2007</th>\n",
       "      <th>2008</th>\n",
       "      <th>2009</th>\n",
       "      <th>2010</th>\n",
       "      <th>2011</th>\n",
       "      <th>2012</th>\n",
       "      <th>2013</th>\n",
       "      <th>2014</th>\n",
       "      <th>2015</th>\n",
       "      <th>2016</th>\n",
       "    </tr>\n",
       "    <tr>\n",
       "      <th>platform</th>\n",
       "      <th></th>\n",
       "      <th></th>\n",
       "      <th></th>\n",
       "      <th></th>\n",
       "      <th></th>\n",
       "      <th></th>\n",
       "      <th></th>\n",
       "      <th></th>\n",
       "      <th></th>\n",
       "      <th></th>\n",
       "      <th></th>\n",
       "      <th></th>\n",
       "      <th></th>\n",
       "      <th></th>\n",
       "      <th></th>\n",
       "      <th></th>\n",
       "      <th></th>\n",
       "      <th></th>\n",
       "      <th></th>\n",
       "      <th></th>\n",
       "      <th></th>\n",
       "    </tr>\n",
       "  </thead>\n",
       "  <tbody>\n",
       "    <tr>\n",
       "      <th>DS</th>\n",
       "      <td>0.02</td>\n",
       "      <td>NaN</td>\n",
       "      <td>NaN</td>\n",
       "      <td>NaN</td>\n",
       "      <td>NaN</td>\n",
       "      <td>NaN</td>\n",
       "      <td>NaN</td>\n",
       "      <td>NaN</td>\n",
       "      <td>NaN</td>\n",
       "      <td>NaN</td>\n",
       "      <td>...</td>\n",
       "      <td>146.94</td>\n",
       "      <td>145.31</td>\n",
       "      <td>119.54</td>\n",
       "      <td>85.02</td>\n",
       "      <td>26.18</td>\n",
       "      <td>11.01</td>\n",
       "      <td>1.54</td>\n",
       "      <td>NaN</td>\n",
       "      <td>NaN</td>\n",
       "      <td>NaN</td>\n",
       "    </tr>\n",
       "    <tr>\n",
       "      <th>PS</th>\n",
       "      <td>NaN</td>\n",
       "      <td>6.03</td>\n",
       "      <td>35.96</td>\n",
       "      <td>94.7</td>\n",
       "      <td>136.17</td>\n",
       "      <td>169.49</td>\n",
       "      <td>144.53</td>\n",
       "      <td>96.37</td>\n",
       "      <td>35.59</td>\n",
       "      <td>6.67</td>\n",
       "      <td>...</td>\n",
       "      <td>NaN</td>\n",
       "      <td>NaN</td>\n",
       "      <td>NaN</td>\n",
       "      <td>NaN</td>\n",
       "      <td>NaN</td>\n",
       "      <td>NaN</td>\n",
       "      <td>NaN</td>\n",
       "      <td>NaN</td>\n",
       "      <td>NaN</td>\n",
       "      <td>NaN</td>\n",
       "    </tr>\n",
       "    <tr>\n",
       "      <th>PS2</th>\n",
       "      <td>NaN</td>\n",
       "      <td>NaN</td>\n",
       "      <td>NaN</td>\n",
       "      <td>NaN</td>\n",
       "      <td>NaN</td>\n",
       "      <td>NaN</td>\n",
       "      <td>NaN</td>\n",
       "      <td>39.17</td>\n",
       "      <td>166.43</td>\n",
       "      <td>205.38</td>\n",
       "      <td>...</td>\n",
       "      <td>75.99</td>\n",
       "      <td>53.90</td>\n",
       "      <td>26.40</td>\n",
       "      <td>5.64</td>\n",
       "      <td>0.45</td>\n",
       "      <td>NaN</td>\n",
       "      <td>NaN</td>\n",
       "      <td>NaN</td>\n",
       "      <td>NaN</td>\n",
       "      <td>NaN</td>\n",
       "    </tr>\n",
       "    <tr>\n",
       "      <th>PS3</th>\n",
       "      <td>NaN</td>\n",
       "      <td>NaN</td>\n",
       "      <td>NaN</td>\n",
       "      <td>NaN</td>\n",
       "      <td>NaN</td>\n",
       "      <td>NaN</td>\n",
       "      <td>NaN</td>\n",
       "      <td>NaN</td>\n",
       "      <td>NaN</td>\n",
       "      <td>NaN</td>\n",
       "      <td>...</td>\n",
       "      <td>73.19</td>\n",
       "      <td>118.52</td>\n",
       "      <td>130.93</td>\n",
       "      <td>142.17</td>\n",
       "      <td>156.78</td>\n",
       "      <td>107.36</td>\n",
       "      <td>113.25</td>\n",
       "      <td>47.76</td>\n",
       "      <td>16.82</td>\n",
       "      <td>3.60</td>\n",
       "    </tr>\n",
       "    <tr>\n",
       "      <th>Wii</th>\n",
       "      <td>NaN</td>\n",
       "      <td>NaN</td>\n",
       "      <td>NaN</td>\n",
       "      <td>NaN</td>\n",
       "      <td>NaN</td>\n",
       "      <td>NaN</td>\n",
       "      <td>NaN</td>\n",
       "      <td>NaN</td>\n",
       "      <td>NaN</td>\n",
       "      <td>NaN</td>\n",
       "      <td>...</td>\n",
       "      <td>152.77</td>\n",
       "      <td>171.32</td>\n",
       "      <td>206.97</td>\n",
       "      <td>127.95</td>\n",
       "      <td>59.65</td>\n",
       "      <td>21.71</td>\n",
       "      <td>8.59</td>\n",
       "      <td>3.75</td>\n",
       "      <td>1.14</td>\n",
       "      <td>0.18</td>\n",
       "    </tr>\n",
       "    <tr>\n",
       "      <th>X360</th>\n",
       "      <td>NaN</td>\n",
       "      <td>NaN</td>\n",
       "      <td>NaN</td>\n",
       "      <td>NaN</td>\n",
       "      <td>NaN</td>\n",
       "      <td>NaN</td>\n",
       "      <td>NaN</td>\n",
       "      <td>NaN</td>\n",
       "      <td>NaN</td>\n",
       "      <td>NaN</td>\n",
       "      <td>...</td>\n",
       "      <td>95.41</td>\n",
       "      <td>135.26</td>\n",
       "      <td>120.29</td>\n",
       "      <td>170.03</td>\n",
       "      <td>143.84</td>\n",
       "      <td>99.74</td>\n",
       "      <td>88.58</td>\n",
       "      <td>34.74</td>\n",
       "      <td>11.96</td>\n",
       "      <td>1.52</td>\n",
       "    </tr>\n",
       "  </tbody>\n",
       "</table>\n",
       "<p>6 rows × 24 columns</p>\n",
       "</div>"
      ],
      "text/plain": [
       "year_of_release  1985  1994   1995  1996    1997    1998    1999   2000  \\\n",
       "platform                                                                  \n",
       "DS               0.02   NaN    NaN   NaN     NaN     NaN     NaN    NaN   \n",
       "PS                NaN  6.03  35.96  94.7  136.17  169.49  144.53  96.37   \n",
       "PS2               NaN   NaN    NaN   NaN     NaN     NaN     NaN  39.17   \n",
       "PS3               NaN   NaN    NaN   NaN     NaN     NaN     NaN    NaN   \n",
       "Wii               NaN   NaN    NaN   NaN     NaN     NaN     NaN    NaN   \n",
       "X360              NaN   NaN    NaN   NaN     NaN     NaN     NaN    NaN   \n",
       "\n",
       "year_of_release    2001    2002  ...    2007    2008    2009    2010    2011  \\\n",
       "platform                         ...                                           \n",
       "DS                  NaN     NaN  ...  146.94  145.31  119.54   85.02   26.18   \n",
       "PS                35.59    6.67  ...     NaN     NaN     NaN     NaN     NaN   \n",
       "PS2              166.43  205.38  ...   75.99   53.90   26.40    5.64    0.45   \n",
       "PS3                 NaN     NaN  ...   73.19  118.52  130.93  142.17  156.78   \n",
       "Wii                 NaN     NaN  ...  152.77  171.32  206.97  127.95   59.65   \n",
       "X360                NaN     NaN  ...   95.41  135.26  120.29  170.03  143.84   \n",
       "\n",
       "year_of_release    2012    2013   2014   2015  2016  \n",
       "platform                                             \n",
       "DS                11.01    1.54    NaN    NaN   NaN  \n",
       "PS                  NaN     NaN    NaN    NaN   NaN  \n",
       "PS2                 NaN     NaN    NaN    NaN   NaN  \n",
       "PS3              107.36  113.25  47.76  16.82  3.60  \n",
       "Wii               21.71    8.59   3.75   1.14  0.18  \n",
       "X360              99.74   88.58  34.74  11.96  1.52  \n",
       "\n",
       "[6 rows x 24 columns]"
      ]
     },
     "execution_count": 24,
     "metadata": {},
     "output_type": "execute_result"
    }
   ],
   "source": [
    "data.query('platform in @top_platform_names').pivot_table(index='platform', columns='year_of_release', values='total_sales', aggfunc='sum')"
   ]
  },
  {
   "cell_type": "markdown",
   "metadata": {},
   "source": [
    "Построим графики распределения продаж по годам для платформ с наибольшими суммарными продажами."
   ]
  },
  {
   "cell_type": "code",
   "execution_count": 25,
   "metadata": {
    "scrolled": false
   },
   "outputs": [
    {
     "data": {
      "image/png": "[encoded data removed]",
      "text/plain": [
       "<Figure size 432x288 with 1 Axes>"
      ]
     },
     "metadata": {
      "needs_background": "light"
     },
     "output_type": "display_data"
    },
    {
     "data": {
      "image/png": "[encoded data removed]",
      "text/plain": [
       "<Figure size 432x288 with 1 Axes>"
      ]
     },
     "metadata": {
      "needs_background": "light"
     },
     "output_type": "display_data"
    },
    {
     "data": {
      "image/png": "[encoded data removed]",
      "text/plain": [
       "<Figure size 432x288 with 1 Axes>"
      ]
     },
     "metadata": {
      "needs_background": "light"
     },
     "output_type": "display_data"
    },
    {
     "data": {
      "image/png": "[encoded data removed]",
      "text/plain": [
       "<Figure size 432x288 with 1 Axes>"
      ]
     },
     "metadata": {
      "needs_background": "light"
     },
     "output_type": "display_data"
    },
    {
     "data": {
      "image/png": "[encoded data removed]",
      "text/plain": [
       "<Figure size 432x288 with 1 Axes>"
      ]
     },
     "metadata": {
      "needs_background": "light"
     },
     "output_type": "display_data"
    },
    {
     "data": {
      "image/png": "[encoded data removed]",
      "text/plain": [
       "<Figure size 432x288 with 1 Axes>"
      ]
     },
     "metadata": {
      "needs_background": "light"
     },
     "output_type": "display_data"
    }
   ],
   "source": [
    "for platform in top_platforms.index:\n",
    "    (data\n",
    "     .query('platform == @platform')\n",
    "     .pivot_table(index='year_of_release', values='total_sales', aggfunc='sum')\n",
    "     .plot(kind='bar')\n",
    "     \n",
    "    )\n",
    "    plt.title(platform)\n",
    "    plt.show()\n",
    "    "
   ]
  },
  {
   "cell_type": "markdown",
   "metadata": {},
   "source": [
    "На графиках видно, что жизненный цикл платформ как правило укладывается в 10 лет, то есть за 10 лет появляются новые и исчезают старые платформы. Так же можно увидеть что наибольшее число продаж у платформ приходится на начало либо середину этого цикла и длится примерно 4-5 лет."
   ]
  },
  {
   "cell_type": "markdown",
   "metadata": {},
   "source": [
    "### Возьмем данные за актуальный период"
   ]
  },
  {
   "cell_type": "markdown",
   "metadata": {},
   "source": [
    "Создадим новую переменную с актуальными для нас данными и играми выпущенными после 2013 года, чтобы проанализировать данные за последние 3 года"
   ]
  },
  {
   "cell_type": "code",
   "execution_count": 26,
   "metadata": {},
   "outputs": [
    {
     "data": {
      "text/html": [
       "<div>\n",
       "<style scoped>\n",
       "    .dataframe tbody tr th:only-of-type {\n",
       "        vertical-align: middle;\n",
       "    }\n",
       "\n",
       "    .dataframe tbody tr th {\n",
       "        vertical-align: top;\n",
       "    }\n",
       "\n",
       "    .dataframe thead th {\n",
       "        text-align: right;\n",
       "    }\n",
       "</style>\n",
       "<table border=\"1\" class=\"dataframe\">\n",
       "  <thead>\n",
       "    <tr style=\"text-align: right;\">\n",
       "      <th></th>\n",
       "      <th>name</th>\n",
       "      <th>platform</th>\n",
       "      <th>year_of_release</th>\n",
       "      <th>genre</th>\n",
       "      <th>na_sales</th>\n",
       "      <th>eu_sales</th>\n",
       "      <th>jp_sales</th>\n",
       "      <th>other_sales</th>\n",
       "      <th>critic_score</th>\n",
       "      <th>user_score</th>\n",
       "      <th>rating</th>\n",
       "      <th>total_sales</th>\n",
       "    </tr>\n",
       "  </thead>\n",
       "  <tbody>\n",
       "    <tr>\n",
       "      <th>31</th>\n",
       "      <td>Call of Duty: Black Ops 3</td>\n",
       "      <td>PS4</td>\n",
       "      <td>2015</td>\n",
       "      <td>Shooter</td>\n",
       "      <td>6.03</td>\n",
       "      <td>5.86</td>\n",
       "      <td>0.36</td>\n",
       "      <td>2.38</td>\n",
       "      <td>NaN</td>\n",
       "      <td>NaN</td>\n",
       "      <td>no_rating</td>\n",
       "      <td>14.63</td>\n",
       "    </tr>\n",
       "    <tr>\n",
       "      <th>42</th>\n",
       "      <td>Grand Theft Auto V</td>\n",
       "      <td>PS4</td>\n",
       "      <td>2014</td>\n",
       "      <td>Action</td>\n",
       "      <td>3.96</td>\n",
       "      <td>6.31</td>\n",
       "      <td>0.38</td>\n",
       "      <td>1.97</td>\n",
       "      <td>97.0</td>\n",
       "      <td>8.3</td>\n",
       "      <td>M</td>\n",
       "      <td>12.62</td>\n",
       "    </tr>\n",
       "    <tr>\n",
       "      <th>47</th>\n",
       "      <td>Pokemon Omega Ruby/Pokemon Alpha Sapphire</td>\n",
       "      <td>3DS</td>\n",
       "      <td>2014</td>\n",
       "      <td>Role-Playing</td>\n",
       "      <td>4.35</td>\n",
       "      <td>3.49</td>\n",
       "      <td>3.10</td>\n",
       "      <td>0.74</td>\n",
       "      <td>NaN</td>\n",
       "      <td>NaN</td>\n",
       "      <td>no_rating</td>\n",
       "      <td>11.68</td>\n",
       "    </tr>\n",
       "    <tr>\n",
       "      <th>77</th>\n",
       "      <td>FIFA 16</td>\n",
       "      <td>PS4</td>\n",
       "      <td>2015</td>\n",
       "      <td>Sports</td>\n",
       "      <td>1.12</td>\n",
       "      <td>6.12</td>\n",
       "      <td>0.06</td>\n",
       "      <td>1.28</td>\n",
       "      <td>82.0</td>\n",
       "      <td>4.3</td>\n",
       "      <td>E</td>\n",
       "      <td>8.58</td>\n",
       "    </tr>\n",
       "    <tr>\n",
       "      <th>87</th>\n",
       "      <td>Star Wars Battlefront (2015)</td>\n",
       "      <td>PS4</td>\n",
       "      <td>2015</td>\n",
       "      <td>Shooter</td>\n",
       "      <td>2.99</td>\n",
       "      <td>3.49</td>\n",
       "      <td>0.22</td>\n",
       "      <td>1.28</td>\n",
       "      <td>NaN</td>\n",
       "      <td>NaN</td>\n",
       "      <td>no_rating</td>\n",
       "      <td>7.98</td>\n",
       "    </tr>\n",
       "    <tr>\n",
       "      <th>...</th>\n",
       "      <td>...</td>\n",
       "      <td>...</td>\n",
       "      <td>...</td>\n",
       "      <td>...</td>\n",
       "      <td>...</td>\n",
       "      <td>...</td>\n",
       "      <td>...</td>\n",
       "      <td>...</td>\n",
       "      <td>...</td>\n",
       "      <td>...</td>\n",
       "      <td>...</td>\n",
       "      <td>...</td>\n",
       "    </tr>\n",
       "    <tr>\n",
       "      <th>16703</th>\n",
       "      <td>Strawberry Nauts</td>\n",
       "      <td>PSV</td>\n",
       "      <td>2016</td>\n",
       "      <td>Adventure</td>\n",
       "      <td>0.00</td>\n",
       "      <td>0.00</td>\n",
       "      <td>0.01</td>\n",
       "      <td>0.00</td>\n",
       "      <td>NaN</td>\n",
       "      <td>NaN</td>\n",
       "      <td>no_rating</td>\n",
       "      <td>0.01</td>\n",
       "    </tr>\n",
       "    <tr>\n",
       "      <th>16707</th>\n",
       "      <td>Aiyoku no Eustia</td>\n",
       "      <td>PSV</td>\n",
       "      <td>2014</td>\n",
       "      <td>Misc</td>\n",
       "      <td>0.00</td>\n",
       "      <td>0.00</td>\n",
       "      <td>0.01</td>\n",
       "      <td>0.00</td>\n",
       "      <td>NaN</td>\n",
       "      <td>NaN</td>\n",
       "      <td>no_rating</td>\n",
       "      <td>0.01</td>\n",
       "    </tr>\n",
       "    <tr>\n",
       "      <th>16710</th>\n",
       "      <td>Samurai Warriors: Sanada Maru</td>\n",
       "      <td>PS3</td>\n",
       "      <td>2016</td>\n",
       "      <td>Action</td>\n",
       "      <td>0.00</td>\n",
       "      <td>0.00</td>\n",
       "      <td>0.01</td>\n",
       "      <td>0.00</td>\n",
       "      <td>NaN</td>\n",
       "      <td>NaN</td>\n",
       "      <td>no_rating</td>\n",
       "      <td>0.01</td>\n",
       "    </tr>\n",
       "    <tr>\n",
       "      <th>16712</th>\n",
       "      <td>Haitaka no Psychedelica</td>\n",
       "      <td>PSV</td>\n",
       "      <td>2016</td>\n",
       "      <td>Adventure</td>\n",
       "      <td>0.00</td>\n",
       "      <td>0.00</td>\n",
       "      <td>0.01</td>\n",
       "      <td>0.00</td>\n",
       "      <td>NaN</td>\n",
       "      <td>NaN</td>\n",
       "      <td>no_rating</td>\n",
       "      <td>0.01</td>\n",
       "    </tr>\n",
       "    <tr>\n",
       "      <th>16714</th>\n",
       "      <td>Winning Post 8 2016</td>\n",
       "      <td>PSV</td>\n",
       "      <td>2016</td>\n",
       "      <td>Simulation</td>\n",
       "      <td>0.00</td>\n",
       "      <td>0.00</td>\n",
       "      <td>0.01</td>\n",
       "      <td>0.00</td>\n",
       "      <td>NaN</td>\n",
       "      <td>NaN</td>\n",
       "      <td>no_rating</td>\n",
       "      <td>0.01</td>\n",
       "    </tr>\n",
       "  </tbody>\n",
       "</table>\n",
       "<p>1689 rows × 12 columns</p>\n",
       "</div>"
      ],
      "text/plain": [
       "                                            name platform  year_of_release  \\\n",
       "31                     Call of Duty: Black Ops 3      PS4             2015   \n",
       "42                            Grand Theft Auto V      PS4             2014   \n",
       "47     Pokemon Omega Ruby/Pokemon Alpha Sapphire      3DS             2014   \n",
       "77                                       FIFA 16      PS4             2015   \n",
       "87                  Star Wars Battlefront (2015)      PS4             2015   \n",
       "...                                          ...      ...              ...   \n",
       "16703                           Strawberry Nauts      PSV             2016   \n",
       "16707                           Aiyoku no Eustia      PSV             2014   \n",
       "16710              Samurai Warriors: Sanada Maru      PS3             2016   \n",
       "16712                    Haitaka no Psychedelica      PSV             2016   \n",
       "16714                        Winning Post 8 2016      PSV             2016   \n",
       "\n",
       "              genre  na_sales  eu_sales  jp_sales  other_sales  critic_score  \\\n",
       "31          Shooter      6.03      5.86      0.36         2.38           NaN   \n",
       "42           Action      3.96      6.31      0.38         1.97          97.0   \n",
       "47     Role-Playing      4.35      3.49      3.10         0.74           NaN   \n",
       "77           Sports      1.12      6.12      0.06         1.28          82.0   \n",
       "87          Shooter      2.99      3.49      0.22         1.28           NaN   \n",
       "...             ...       ...       ...       ...          ...           ...   \n",
       "16703     Adventure      0.00      0.00      0.01         0.00           NaN   \n",
       "16707          Misc      0.00      0.00      0.01         0.00           NaN   \n",
       "16710        Action      0.00      0.00      0.01         0.00           NaN   \n",
       "16712     Adventure      0.00      0.00      0.01         0.00           NaN   \n",
       "16714    Simulation      0.00      0.00      0.01         0.00           NaN   \n",
       "\n",
       "       user_score     rating  total_sales  \n",
       "31            NaN  no_rating        14.63  \n",
       "42            8.3          M        12.62  \n",
       "47            NaN  no_rating        11.68  \n",
       "77            4.3          E         8.58  \n",
       "87            NaN  no_rating         7.98  \n",
       "...           ...        ...          ...  \n",
       "16703         NaN  no_rating         0.01  \n",
       "16707         NaN  no_rating         0.01  \n",
       "16710         NaN  no_rating         0.01  \n",
       "16712         NaN  no_rating         0.01  \n",
       "16714         NaN  no_rating         0.01  \n",
       "\n",
       "[1689 rows x 12 columns]"
      ]
     },
     "execution_count": 26,
     "metadata": {},
     "output_type": "execute_result"
    }
   ],
   "source": [
    "current_data = data.query('year_of_release > 2013')\n",
    "current_data"
   ]
  },
  {
   "cell_type": "code",
   "execution_count": 27,
   "metadata": {},
   "outputs": [
    {
     "data": {
      "image/png": "[encoded data removed]",
      "text/plain": [
       "<Figure size 432x288 with 1 Axes>"
      ]
     },
     "metadata": {
      "needs_background": "light"
     },
     "output_type": "display_data"
    }
   ],
   "source": [
    "current_data.groupby('platform')['total_sales'].sum().sort_values().plot(kind='bar');\n",
    "plt.xlabel('Платформы');\n",
    "plt.ylabel('Общее число продаж');"
   ]
  },
  {
   "cell_type": "markdown",
   "metadata": {},
   "source": [
    "Выделим три лидирующие по количеству продаж платформы: PS4, XOne и 3DS. Рассмотрим распределние продаж каждой из этих платформ по годам"
   ]
  },
  {
   "cell_type": "code",
   "execution_count": 28,
   "metadata": {},
   "outputs": [
    {
     "data": {
      "text/html": [
       "<div>\n",
       "<style scoped>\n",
       "    .dataframe tbody tr th:only-of-type {\n",
       "        vertical-align: middle;\n",
       "    }\n",
       "\n",
       "    .dataframe tbody tr th {\n",
       "        vertical-align: top;\n",
       "    }\n",
       "\n",
       "    .dataframe thead th {\n",
       "        text-align: right;\n",
       "    }\n",
       "</style>\n",
       "<table border=\"1\" class=\"dataframe\">\n",
       "  <thead>\n",
       "    <tr style=\"text-align: right;\">\n",
       "      <th></th>\n",
       "      <th>name</th>\n",
       "      <th>platform</th>\n",
       "      <th>year_of_release</th>\n",
       "      <th>genre</th>\n",
       "      <th>na_sales</th>\n",
       "      <th>eu_sales</th>\n",
       "      <th>jp_sales</th>\n",
       "      <th>other_sales</th>\n",
       "      <th>critic_score</th>\n",
       "      <th>user_score</th>\n",
       "      <th>rating</th>\n",
       "      <th>total_sales</th>\n",
       "    </tr>\n",
       "  </thead>\n",
       "  <tbody>\n",
       "    <tr>\n",
       "      <th>31</th>\n",
       "      <td>Call of Duty: Black Ops 3</td>\n",
       "      <td>PS4</td>\n",
       "      <td>2015</td>\n",
       "      <td>Shooter</td>\n",
       "      <td>6.03</td>\n",
       "      <td>5.86</td>\n",
       "      <td>0.36</td>\n",
       "      <td>2.38</td>\n",
       "      <td>NaN</td>\n",
       "      <td>NaN</td>\n",
       "      <td>no_rating</td>\n",
       "      <td>14.63</td>\n",
       "    </tr>\n",
       "    <tr>\n",
       "      <th>42</th>\n",
       "      <td>Grand Theft Auto V</td>\n",
       "      <td>PS4</td>\n",
       "      <td>2014</td>\n",
       "      <td>Action</td>\n",
       "      <td>3.96</td>\n",
       "      <td>6.31</td>\n",
       "      <td>0.38</td>\n",
       "      <td>1.97</td>\n",
       "      <td>97.0</td>\n",
       "      <td>8.3</td>\n",
       "      <td>M</td>\n",
       "      <td>12.62</td>\n",
       "    </tr>\n",
       "    <tr>\n",
       "      <th>47</th>\n",
       "      <td>Pokemon Omega Ruby/Pokemon Alpha Sapphire</td>\n",
       "      <td>3DS</td>\n",
       "      <td>2014</td>\n",
       "      <td>Role-Playing</td>\n",
       "      <td>4.35</td>\n",
       "      <td>3.49</td>\n",
       "      <td>3.10</td>\n",
       "      <td>0.74</td>\n",
       "      <td>NaN</td>\n",
       "      <td>NaN</td>\n",
       "      <td>no_rating</td>\n",
       "      <td>11.68</td>\n",
       "    </tr>\n",
       "    <tr>\n",
       "      <th>77</th>\n",
       "      <td>FIFA 16</td>\n",
       "      <td>PS4</td>\n",
       "      <td>2015</td>\n",
       "      <td>Sports</td>\n",
       "      <td>1.12</td>\n",
       "      <td>6.12</td>\n",
       "      <td>0.06</td>\n",
       "      <td>1.28</td>\n",
       "      <td>82.0</td>\n",
       "      <td>4.3</td>\n",
       "      <td>E</td>\n",
       "      <td>8.58</td>\n",
       "    </tr>\n",
       "    <tr>\n",
       "      <th>87</th>\n",
       "      <td>Star Wars Battlefront (2015)</td>\n",
       "      <td>PS4</td>\n",
       "      <td>2015</td>\n",
       "      <td>Shooter</td>\n",
       "      <td>2.99</td>\n",
       "      <td>3.49</td>\n",
       "      <td>0.22</td>\n",
       "      <td>1.28</td>\n",
       "      <td>NaN</td>\n",
       "      <td>NaN</td>\n",
       "      <td>no_rating</td>\n",
       "      <td>7.98</td>\n",
       "    </tr>\n",
       "    <tr>\n",
       "      <th>...</th>\n",
       "      <td>...</td>\n",
       "      <td>...</td>\n",
       "      <td>...</td>\n",
       "      <td>...</td>\n",
       "      <td>...</td>\n",
       "      <td>...</td>\n",
       "      <td>...</td>\n",
       "      <td>...</td>\n",
       "      <td>...</td>\n",
       "      <td>...</td>\n",
       "      <td>...</td>\n",
       "      <td>...</td>\n",
       "    </tr>\n",
       "    <tr>\n",
       "      <th>16645</th>\n",
       "      <td>ZombiU</td>\n",
       "      <td>XOne</td>\n",
       "      <td>2016</td>\n",
       "      <td>Action</td>\n",
       "      <td>0.00</td>\n",
       "      <td>0.01</td>\n",
       "      <td>0.00</td>\n",
       "      <td>0.00</td>\n",
       "      <td>NaN</td>\n",
       "      <td>NaN</td>\n",
       "      <td>no_rating</td>\n",
       "      <td>0.01</td>\n",
       "    </tr>\n",
       "    <tr>\n",
       "      <th>16660</th>\n",
       "      <td>Prison Architect</td>\n",
       "      <td>XOne</td>\n",
       "      <td>2016</td>\n",
       "      <td>Action</td>\n",
       "      <td>0.01</td>\n",
       "      <td>0.00</td>\n",
       "      <td>0.00</td>\n",
       "      <td>0.00</td>\n",
       "      <td>74.0</td>\n",
       "      <td>6.7</td>\n",
       "      <td>no_rating</td>\n",
       "      <td>0.01</td>\n",
       "    </tr>\n",
       "    <tr>\n",
       "      <th>16668</th>\n",
       "      <td>Fujiko F. Fujio Characters: Great Assembly! Sl...</td>\n",
       "      <td>3DS</td>\n",
       "      <td>2014</td>\n",
       "      <td>Action</td>\n",
       "      <td>0.00</td>\n",
       "      <td>0.00</td>\n",
       "      <td>0.01</td>\n",
       "      <td>0.00</td>\n",
       "      <td>NaN</td>\n",
       "      <td>NaN</td>\n",
       "      <td>no_rating</td>\n",
       "      <td>0.01</td>\n",
       "    </tr>\n",
       "    <tr>\n",
       "      <th>16672</th>\n",
       "      <td>Metal Gear Solid V: The Definitive Experience</td>\n",
       "      <td>XOne</td>\n",
       "      <td>2016</td>\n",
       "      <td>Action</td>\n",
       "      <td>0.01</td>\n",
       "      <td>0.00</td>\n",
       "      <td>0.00</td>\n",
       "      <td>0.00</td>\n",
       "      <td>NaN</td>\n",
       "      <td>NaN</td>\n",
       "      <td>M</td>\n",
       "      <td>0.01</td>\n",
       "    </tr>\n",
       "    <tr>\n",
       "      <th>16677</th>\n",
       "      <td>Aikatsu Stars! My Special Appeal</td>\n",
       "      <td>3DS</td>\n",
       "      <td>2016</td>\n",
       "      <td>Action</td>\n",
       "      <td>0.00</td>\n",
       "      <td>0.00</td>\n",
       "      <td>0.01</td>\n",
       "      <td>0.00</td>\n",
       "      <td>NaN</td>\n",
       "      <td>NaN</td>\n",
       "      <td>no_rating</td>\n",
       "      <td>0.01</td>\n",
       "    </tr>\n",
       "  </tbody>\n",
       "</table>\n",
       "<p>816 rows × 12 columns</p>\n",
       "</div>"
      ],
      "text/plain": [
       "                                                    name platform  \\\n",
       "31                             Call of Duty: Black Ops 3      PS4   \n",
       "42                                    Grand Theft Auto V      PS4   \n",
       "47             Pokemon Omega Ruby/Pokemon Alpha Sapphire      3DS   \n",
       "77                                               FIFA 16      PS4   \n",
       "87                          Star Wars Battlefront (2015)      PS4   \n",
       "...                                                  ...      ...   \n",
       "16645                                             ZombiU     XOne   \n",
       "16660                                   Prison Architect     XOne   \n",
       "16668  Fujiko F. Fujio Characters: Great Assembly! Sl...      3DS   \n",
       "16672      Metal Gear Solid V: The Definitive Experience     XOne   \n",
       "16677                   Aikatsu Stars! My Special Appeal      3DS   \n",
       "\n",
       "       year_of_release         genre  na_sales  eu_sales  jp_sales  \\\n",
       "31                2015       Shooter      6.03      5.86      0.36   \n",
       "42                2014        Action      3.96      6.31      0.38   \n",
       "47                2014  Role-Playing      4.35      3.49      3.10   \n",
       "77                2015        Sports      1.12      6.12      0.06   \n",
       "87                2015       Shooter      2.99      3.49      0.22   \n",
       "...                ...           ...       ...       ...       ...   \n",
       "16645             2016        Action      0.00      0.01      0.00   \n",
       "16660             2016        Action      0.01      0.00      0.00   \n",
       "16668             2014        Action      0.00      0.00      0.01   \n",
       "16672             2016        Action      0.01      0.00      0.00   \n",
       "16677             2016        Action      0.00      0.00      0.01   \n",
       "\n",
       "       other_sales  critic_score  user_score     rating  total_sales  \n",
       "31            2.38           NaN         NaN  no_rating        14.63  \n",
       "42            1.97          97.0         8.3          M        12.62  \n",
       "47            0.74           NaN         NaN  no_rating        11.68  \n",
       "77            1.28          82.0         4.3          E         8.58  \n",
       "87            1.28           NaN         NaN  no_rating         7.98  \n",
       "...            ...           ...         ...        ...          ...  \n",
       "16645         0.00           NaN         NaN  no_rating         0.01  \n",
       "16660         0.00          74.0         6.7  no_rating         0.01  \n",
       "16668         0.00           NaN         NaN  no_rating         0.01  \n",
       "16672         0.00           NaN         NaN          M         0.01  \n",
       "16677         0.00           NaN         NaN  no_rating         0.01  \n",
       "\n",
       "[816 rows x 12 columns]"
      ]
     },
     "execution_count": 28,
     "metadata": {},
     "output_type": "execute_result"
    }
   ],
   "source": [
    "current_data_top_platform = current_data.query('platform == \"PS4\" | platform == \"XOne\" | platform == \"3DS\"')\n",
    "current_data_top_platform"
   ]
  },
  {
   "cell_type": "code",
   "execution_count": 29,
   "metadata": {},
   "outputs": [
    {
     "data": {
      "image/png": "[encoded data removed]",
      "text/plain": [
       "<Figure size 432x288 with 1 Axes>"
      ]
     },
     "metadata": {
      "needs_background": "light"
     },
     "output_type": "display_data"
    }
   ],
   "source": [
    "ax = sns.barplot(x='year_of_release',\n",
    "            y='total_sales',\n",
    "            hue=\"platform\",\n",
    "            data=current_data_top_platform,\n",
    "            palette=['lightblue', 'lightgreen', 'orange'])\n",
    "ax.set_title('Распределение продаж трех лидирующих платформ по годам')\n",
    "ax.set(xlabel='Год', ylabel='Общее число продаж');"
   ]
  },
  {
   "cell_type": "markdown",
   "metadata": {},
   "source": [
    "Лидирующей среди этих трёх платформ отказалась PS4. Так же мы вдим что на 2016г. продажи всех трех платфом падают."
   ]
  },
  {
   "cell_type": "markdown",
   "metadata": {},
   "source": [
    "### Построим график «ящик с усами» по глобальным продажам игр в разбивке по платформам"
   ]
  },
  {
   "cell_type": "code",
   "execution_count": 30,
   "metadata": {
    "scrolled": false
   },
   "outputs": [
    {
     "data": {
      "image/png": "[encoded data removed]",
      "text/plain": [
       "<Figure size 1080x1080 with 1 Axes>"
      ]
     },
     "metadata": {
      "needs_background": "light"
     },
     "output_type": "display_data"
    }
   ],
   "source": [
    "(\n",
    "    current_data\n",
    "    .boxplot(column='total_sales', by='platform', figsize=(15,15))\n",
    "    .set(title='Продажи игр по платформам',xlabel='Платформа', ylabel='Общие продажи')\n",
    ");"
   ]
  },
  {
   "cell_type": "code",
   "execution_count": 31,
   "metadata": {},
   "outputs": [
    {
     "data": {
      "image/png": "[encoded data removed]",
      "text/plain": [
       "<Figure size 1080x1080 with 1 Axes>"
      ]
     },
     "metadata": {
      "needs_background": "light"
     },
     "output_type": "display_data"
    }
   ],
   "source": [
    "(\n",
    "    current_data\n",
    "    .boxplot(column='total_sales', by='platform', figsize=(15,15))\n",
    ");\n",
    "plt.title('Распределение продаж в разбивке по платформам')\n",
    "plt.xlabel('Платформы')\n",
    "plt.ylabel('Количество продаж')\n",
    "plt.ylim(0, 1.6)\n",
    "plt.show()"
   ]
  },
  {
   "cell_type": "markdown",
   "metadata": {},
   "source": [
    "Постороив график «ящик с усами» мы видим, что на платформе PS4 разброс по количеству продаж наиболее высокий. Это нам говорит о том, что на этой платформе выходило большое количество игр бестселлеров, что обеспечило платформе хорошие показатели по продажам. Так же можно увидеть что стабильно хорошие показатели имеет платформа XOne, медиана продаж этой платформы выше чем у PS4. "
   ]
  },
  {
   "cell_type": "markdown",
   "metadata": {},
   "source": [
    "### Рассмотрим, как влияют на продажи внутри одной популярной платформы отзывы пользователей и критиков"
   ]
  },
  {
   "cell_type": "markdown",
   "metadata": {},
   "source": [
    "Возьмем в качестве примера платформу PS4. Ее жизненный цикл вписывается в рассматриваемый нами период и она является одной из лидирующих платформ на рынке"
   ]
  },
  {
   "cell_type": "code",
   "execution_count": 32,
   "metadata": {},
   "outputs": [
    {
     "data": {
      "text/html": [
       "<div>\n",
       "<style scoped>\n",
       "    .dataframe tbody tr th:only-of-type {\n",
       "        vertical-align: middle;\n",
       "    }\n",
       "\n",
       "    .dataframe tbody tr th {\n",
       "        vertical-align: top;\n",
       "    }\n",
       "\n",
       "    .dataframe thead th {\n",
       "        text-align: right;\n",
       "    }\n",
       "</style>\n",
       "<table border=\"1\" class=\"dataframe\">\n",
       "  <thead>\n",
       "    <tr style=\"text-align: right;\">\n",
       "      <th></th>\n",
       "      <th>critic_score</th>\n",
       "      <th>total_sales</th>\n",
       "      <th>user_score</th>\n",
       "    </tr>\n",
       "    <tr>\n",
       "      <th>name</th>\n",
       "      <th></th>\n",
       "      <th></th>\n",
       "      <th></th>\n",
       "    </tr>\n",
       "  </thead>\n",
       "  <tbody>\n",
       "    <tr>\n",
       "      <th>7 Days to Die</th>\n",
       "      <td>45.0</td>\n",
       "      <td>0.14</td>\n",
       "      <td>5.9</td>\n",
       "    </tr>\n",
       "    <tr>\n",
       "      <th>Adventure Time: Finn &amp; Jake Investigations</th>\n",
       "      <td>NaN</td>\n",
       "      <td>0.10</td>\n",
       "      <td>NaN</td>\n",
       "    </tr>\n",
       "    <tr>\n",
       "      <th>Aegis of Earth: Protonovus Assault</th>\n",
       "      <td>57.0</td>\n",
       "      <td>0.02</td>\n",
       "      <td>7.8</td>\n",
       "    </tr>\n",
       "    <tr>\n",
       "      <th>Agatha Christie's The ABC Murders</th>\n",
       "      <td>67.0</td>\n",
       "      <td>0.02</td>\n",
       "      <td>6.2</td>\n",
       "    </tr>\n",
       "    <tr>\n",
       "      <th>Akiba's Trip: Undead &amp; Undressed</th>\n",
       "      <td>NaN</td>\n",
       "      <td>0.11</td>\n",
       "      <td>NaN</td>\n",
       "    </tr>\n",
       "    <tr>\n",
       "      <th>...</th>\n",
       "      <td>...</td>\n",
       "      <td>...</td>\n",
       "      <td>...</td>\n",
       "    </tr>\n",
       "    <tr>\n",
       "      <th>Yakuza: Ishin</th>\n",
       "      <td>NaN</td>\n",
       "      <td>0.15</td>\n",
       "      <td>NaN</td>\n",
       "    </tr>\n",
       "    <tr>\n",
       "      <th>Yoru no Nai Kuni</th>\n",
       "      <td>NaN</td>\n",
       "      <td>0.08</td>\n",
       "      <td>NaN</td>\n",
       "    </tr>\n",
       "    <tr>\n",
       "      <th>ZombiU</th>\n",
       "      <td>NaN</td>\n",
       "      <td>0.06</td>\n",
       "      <td>NaN</td>\n",
       "    </tr>\n",
       "    <tr>\n",
       "      <th>Zombie Army Trilogy</th>\n",
       "      <td>62.0</td>\n",
       "      <td>0.20</td>\n",
       "      <td>6.8</td>\n",
       "    </tr>\n",
       "    <tr>\n",
       "      <th>inFAMOUS: Second Son</th>\n",
       "      <td>80.0</td>\n",
       "      <td>2.79</td>\n",
       "      <td>7.9</td>\n",
       "    </tr>\n",
       "  </tbody>\n",
       "</table>\n",
       "<p>376 rows × 3 columns</p>\n",
       "</div>"
      ],
      "text/plain": [
       "                                            critic_score  total_sales  \\\n",
       "name                                                                    \n",
       "7 Days to Die                                       45.0         0.14   \n",
       "Adventure Time: Finn & Jake Investigations           NaN         0.10   \n",
       "Aegis of Earth: Protonovus Assault                  57.0         0.02   \n",
       "Agatha Christie's The ABC Murders                   67.0         0.02   \n",
       "Akiba's Trip: Undead & Undressed                     NaN         0.11   \n",
       "...                                                  ...          ...   \n",
       "Yakuza: Ishin                                        NaN         0.15   \n",
       "Yoru no Nai Kuni                                     NaN         0.08   \n",
       "ZombiU                                               NaN         0.06   \n",
       "Zombie Army Trilogy                                 62.0         0.20   \n",
       "inFAMOUS: Second Son                                80.0         2.79   \n",
       "\n",
       "                                            user_score  \n",
       "name                                                    \n",
       "7 Days to Die                                      5.9  \n",
       "Adventure Time: Finn & Jake Investigations         NaN  \n",
       "Aegis of Earth: Protonovus Assault                 7.8  \n",
       "Agatha Christie's The ABC Murders                  6.2  \n",
       "Akiba's Trip: Undead & Undressed                   NaN  \n",
       "...                                                ...  \n",
       "Yakuza: Ishin                                      NaN  \n",
       "Yoru no Nai Kuni                                   NaN  \n",
       "ZombiU                                             NaN  \n",
       "Zombie Army Trilogy                                6.8  \n",
       "inFAMOUS: Second Son                               7.9  \n",
       "\n",
       "[376 rows x 3 columns]"
      ]
     },
     "execution_count": 32,
     "metadata": {},
     "output_type": "execute_result"
    }
   ],
   "source": [
    "PS4_sales = current_data.query('platform == \"PS4\"').pivot_table(index='name', values=['total_sales', 'critic_score', 'user_score'])\n",
    "PS4_sales"
   ]
  },
  {
   "cell_type": "code",
   "execution_count": 33,
   "metadata": {
    "scrolled": true
   },
   "outputs": [
    {
     "data": {
      "image/png": "[encoded data removed]",
      "text/plain": [
       "<Figure size 432x288 with 1 Axes>"
      ]
     },
     "metadata": {
      "needs_background": "light"
     },
     "output_type": "display_data"
    }
   ],
   "source": [
    "PS4_sales.plot(x='critic_score', y='total_sales', kind='scatter');\n",
    "plt.title('Зависимость количества продаж от отзывов критиков')\n",
    "plt.xlabel('Оценка критиков')\n",
    "plt.ylabel('Количество продаж');"
   ]
  },
  {
   "cell_type": "code",
   "execution_count": 34,
   "metadata": {},
   "outputs": [
    {
     "data": {
      "text/plain": [
       "0.4026614106810413"
      ]
     },
     "execution_count": 34,
     "metadata": {},
     "output_type": "execute_result"
    }
   ],
   "source": [
    "PS4_sales['total_sales'].corr(PS4_sales['critic_score'])"
   ]
  },
  {
   "cell_type": "markdown",
   "metadata": {},
   "source": [
    "Видна умеренная прямая зависимость количества продаж игр от отзывов критиков."
   ]
  },
  {
   "cell_type": "code",
   "execution_count": 35,
   "metadata": {
    "scrolled": true
   },
   "outputs": [
    {
     "data": {
      "image/png": "[encoded data removed]",
      "text/plain": [
       "<Figure size 432x288 with 1 Axes>"
      ]
     },
     "metadata": {
      "needs_background": "light"
     },
     "output_type": "display_data"
    }
   ],
   "source": [
    "PS4_sales.plot(x='user_score', y='total_sales', kind='scatter');\n",
    "plt.title('Зависимость количества продаж от отзывов пользователей')\n",
    "plt.xlabel('Оценка пользователей')\n",
    "plt.ylabel('Количество продаж');"
   ]
  },
  {
   "cell_type": "code",
   "execution_count": 36,
   "metadata": {},
   "outputs": [
    {
     "data": {
      "text/plain": [
       "-0.04013158947269729"
      ]
     },
     "execution_count": 36,
     "metadata": {},
     "output_type": "execute_result"
    }
   ],
   "source": [
    "PS4_sales['total_sales'].corr(PS4_sales['user_score'])"
   ]
  },
  {
   "cell_type": "markdown",
   "metadata": {},
   "source": [
    "Мы видим что коэффициент корреляции менее чем на 10% отличается от нуля, что говорит нам об отсутствии какой бы то ни было существенной связи между отзывами поьзователей и числом продаж."
   ]
  },
  {
   "cell_type": "markdown",
   "metadata": {},
   "source": [
    "Соотнесем выводы с продажами игр на других платформах"
   ]
  },
  {
   "cell_type": "code",
   "execution_count": 37,
   "metadata": {
    "scrolled": false
   },
   "outputs": [
    {
     "data": {
      "image/png": "[encoded data removed]",
      "text/plain": [
       "<Figure size 432x288 with 1 Axes>"
      ]
     },
     "metadata": {
      "needs_background": "light"
     },
     "output_type": "display_data"
    },
    {
     "name": "stdout",
     "output_type": "stream",
     "text": [
      "Коэфициент корреляции равен - 0.4286769437033322\n"
     ]
    },
    {
     "data": {
      "image/png": "[encoded data removed]",
      "text/plain": [
       "<Figure size 432x288 with 1 Axes>"
      ]
     },
     "metadata": {
      "needs_background": "light"
     },
     "output_type": "display_data"
    },
    {
     "name": "stdout",
     "output_type": "stream",
     "text": [
      "Коэфициент корреляции равен - -0.07038392806475818\n"
     ]
    },
    {
     "data": {
      "image/png": "[encoded data removed]",
      "text/plain": [
       "<Figure size 432x288 with 1 Axes>"
      ]
     },
     "metadata": {
      "needs_background": "light"
     },
     "output_type": "display_data"
    },
    {
     "name": "stdout",
     "output_type": "stream",
     "text": [
      "Коэфициент корреляции равен - 0.31411749286905105\n"
     ]
    },
    {
     "data": {
      "image/png": "[encoded data removed]",
      "text/plain": [
       "<Figure size 432x288 with 1 Axes>"
      ]
     },
     "metadata": {
      "needs_background": "light"
     },
     "output_type": "display_data"
    },
    {
     "name": "stdout",
     "output_type": "stream",
     "text": [
      "Коэфициент корреляции равен - 0.21519327185270284\n"
     ]
    },
    {
     "data": {
      "image/png": "[encoded data removed]",
      "text/plain": [
       "<Figure size 432x288 with 1 Axes>"
      ]
     },
     "metadata": {
      "needs_background": "light"
     },
     "output_type": "display_data"
    },
    {
     "name": "stdout",
     "output_type": "stream",
     "text": [
      "Коэфициент корреляции равен - 0.4465746049319071\n"
     ]
    },
    {
     "data": {
      "image/png": "[encoded data removed]",
      "text/plain": [
       "<Figure size 432x288 with 1 Axes>"
      ]
     },
     "metadata": {
      "needs_background": "light"
     },
     "output_type": "display_data"
    },
    {
     "name": "stdout",
     "output_type": "stream",
     "text": [
      "Коэфициент корреляции равен - -0.16676141347662107\n"
     ]
    },
    {
     "data": {
      "image/png": "[encoded data removed]",
      "text/plain": [
       "<Figure size 432x288 with 1 Axes>"
      ]
     },
     "metadata": {
      "needs_background": "light"
     },
     "output_type": "display_data"
    },
    {
     "name": "stdout",
     "output_type": "stream",
     "text": [
      "Коэфициент корреляции равен - 0.5257228356581521\n"
     ]
    },
    {
     "data": {
      "image/png": "[encoded data removed]",
      "text/plain": [
       "<Figure size 432x288 with 1 Axes>"
      ]
     },
     "metadata": {
      "needs_background": "light"
     },
     "output_type": "display_data"
    },
    {
     "name": "stdout",
     "output_type": "stream",
     "text": [
      "Коэфициент корреляции равен - -0.13844457094566495\n"
     ]
    },
    {
     "data": {
      "image/png": "[encoded data removed]",
      "text/plain": [
       "<Figure size 432x288 with 1 Axes>"
      ]
     },
     "metadata": {
      "needs_background": "light"
     },
     "output_type": "display_data"
    },
    {
     "name": "stdout",
     "output_type": "stream",
     "text": [
      "Коэфициент корреляции равен - 0.37020141248088384\n"
     ]
    },
    {
     "data": {
      "image/png": "[encoded data removed]",
      "text/plain": [
       "<Figure size 432x288 with 1 Axes>"
      ]
     },
     "metadata": {
      "needs_background": "light"
     },
     "output_type": "display_data"
    },
    {
     "name": "stdout",
     "output_type": "stream",
     "text": [
      "Коэфициент корреляции равен - 0.40792645792170773\n"
     ]
    }
   ],
   "source": [
    "top_platform_names = ['XOne', '3DS',  'PS3', 'X360', 'WiiU']\n",
    "for platform in top_platform_names:\n",
    "    platform_data = current_data.query('platform == @platform').pivot_table(index='name', values=['total_sales', 'critic_score', 'user_score'])\n",
    "    platform_data.plot(x='critic_score', y='total_sales', kind='scatter', label=platform);\n",
    "    plt.title('Зависимость количества продаж от отзывов критиков ')\n",
    "    plt.xlabel('Оценка критиков')\n",
    "    plt.ylabel('Количество продаж');\n",
    "    plt.show()\n",
    "    \n",
    "    critics_corr = platform_data['total_sales'].corr(platform_data['critic_score'])\n",
    "    print(f'Коэфициент корреляции равен - {critics_corr}')\n",
    "    \n",
    "    platform_data.plot(x='user_score', y='total_sales', kind='scatter', label=platform);\n",
    "    plt.title('Зависимость количества продаж от отзывов пользователей')\n",
    "    plt.xlabel('Оценка пользователей')\n",
    "    plt.ylabel('Количество продаж');\n",
    "    plt.show()\n",
    "    \n",
    "    users_corr = platform_data['total_sales'].corr(platform_data['user_score'])\n",
    "    print(f'Коэфициент корреляции равен - {users_corr}')"
   ]
  },
  {
   "cell_type": "markdown",
   "metadata": {},
   "source": [
    "Рассмотрев зависимости на других платформах мы видим примерно ту же картину: корреляция отзывов критиков и числа продаж игр на платформе положительная и умеренная, либо заметная в случае платформы X360, а корреляция отзывов пользователей и числа продаж слабая или вовсе отсутствует, за исключением платформы WiiU, где коэфициент корреляции составил 0,4, что говорит об умеренной связи."
   ]
  },
  {
   "cell_type": "markdown",
   "metadata": {},
   "source": [
    "### Посмотрим на общее распределение игр по жанрам"
   ]
  },
  {
   "cell_type": "code",
   "execution_count": 38,
   "metadata": {},
   "outputs": [
    {
     "data": {
      "image/png": "[encoded data removed]",
      "text/plain": [
       "<Figure size 432x288 with 1 Axes>"
      ]
     },
     "metadata": {
      "needs_background": "light"
     },
     "output_type": "display_data"
    }
   ],
   "source": [
    "(\n",
    "    current_data\n",
    "    .pivot_table(index='genre', values='total_sales')\n",
    "    .sort_values('total_sales')\n",
    "    .plot(kind='bar', title='Распределение количества продаж по жанрам')\n",
    ");\n",
    "plt.xlabel('Жанры');\n",
    "plt.ylabel('Количество продаж');"
   ]
  },
  {
   "cell_type": "markdown",
   "metadata": {},
   "source": [
    "Наиболее продаваемым жанром среди игр является \"Shooter\", а последнее место занимает жанр \"Adventure\". Проверим, не связано ли это с количеством выпускаемых игр, так как если шутеров за рассматриваемый период было выпущено сильно больше чем игр приключений, результаты не показательны.          "
   ]
  },
  {
   "cell_type": "code",
   "execution_count": 39,
   "metadata": {},
   "outputs": [
    {
     "data": {
      "text/plain": [
       "Action          619\n",
       "Role-Playing    221\n",
       "Adventure       185\n",
       "Sports          161\n",
       "Shooter         128\n",
       "Misc            113\n",
       "Racing           69\n",
       "Fighting         60\n",
       "Simulation       44\n",
       "Platform         38\n",
       "Strategy         37\n",
       "Puzzle           14\n",
       "Name: genre, dtype: int64"
      ]
     },
     "execution_count": 39,
     "metadata": {},
     "output_type": "execute_result"
    }
   ],
   "source": [
    "current_data['genre'].value_counts()"
   ]
  },
  {
   "cell_type": "markdown",
   "metadata": {},
   "source": [
    "Мы видим что количество игр в жанре приключения даже превышает количество игр в жанре шутер, а значит выводы, которые мы сделали на предыдущем шаге, верны.\n"
   ]
  },
  {
   "cell_type": "code",
   "execution_count": 40,
   "metadata": {},
   "outputs": [
    {
     "data": {
      "image/png": "[encoded data removed]",
      "text/plain": [
       "<Figure size 1080x1080 with 1 Axes>"
      ]
     },
     "metadata": {
      "needs_background": "light"
     },
     "output_type": "display_data"
    }
   ],
   "source": [
    "(\n",
    "    current_data\n",
    "    .boxplot(column='total_sales', by='genre', figsize=(15, 15))\n",
    "    .set(title='Распределение количества продаж по жанрам',xlabel='Жанры', ylabel='Общие продажи')\n",
    ");"
   ]
  },
  {
   "cell_type": "code",
   "execution_count": 41,
   "metadata": {
    "scrolled": false
   },
   "outputs": [
    {
     "data": {
      "image/png": "[encoded data removed]",
      "text/plain": [
       "<Figure size 1080x1080 with 1 Axes>"
      ]
     },
     "metadata": {
      "needs_background": "light"
     },
     "output_type": "display_data"
    }
   ],
   "source": [
    "(\n",
    "    current_data\n",
    "    .boxplot(column='total_sales', by='genre', figsize=(15, 15))\n",
    "    .set(title='Распределение количества продаж по жанрам',xlabel='Жанры', ylabel='Общие продажи', ylim=(0, 4))\n",
    ");"
   ]
  },
  {
   "cell_type": "markdown",
   "metadata": {},
   "source": [
    "Сравнивая медианы продаж мы так же видим, что Shooter является жанром со стабильно высоким спросом. Диаграммы размаха подтверждают ранее сделанные нами выводы."
   ]
  },
  {
   "cell_type": "markdown",
   "metadata": {},
   "source": [
    "## Составим портрет пользователя каждого региона"
   ]
  },
  {
   "cell_type": "markdown",
   "metadata": {},
   "source": [
    "### Начнем с выявления топ-5 платформ для каждого региона "
   ]
  },
  {
   "cell_type": "code",
   "execution_count": 42,
   "metadata": {
    "scrolled": true
   },
   "outputs": [
    {
     "data": {
      "text/plain": [
       "platform\n",
       "PS4     98.61\n",
       "XOne    81.27\n",
       "X360    28.30\n",
       "3DS     22.64\n",
       "PS3     22.05\n",
       "Name: na_sales, dtype: float64"
      ]
     },
     "execution_count": 42,
     "metadata": {},
     "output_type": "execute_result"
    }
   ],
   "source": [
    "current_data.groupby('platform')['na_sales'].sum().sort_values(ascending=False)[:5]"
   ]
  },
  {
   "cell_type": "markdown",
   "metadata": {},
   "source": [
    "Самымой популяпными платформами в Северной Америке являются PS4 и XOne. Последнее место в топе занимает PS3."
   ]
  },
  {
   "cell_type": "code",
   "execution_count": 43,
   "metadata": {
    "scrolled": true
   },
   "outputs": [
    {
     "data": {
      "text/plain": [
       "platform\n",
       "PS4     130.04\n",
       "XOne     46.25\n",
       "PS3      25.54\n",
       "PC       17.97\n",
       "3DS      16.12\n",
       "Name: eu_sales, dtype: float64"
      ]
     },
     "execution_count": 43,
     "metadata": {},
     "output_type": "execute_result"
    }
   ],
   "source": [
    "current_data.groupby('platform')['eu_sales'].sum().sort_values(ascending=False)[:5]"
   ]
  },
  {
   "cell_type": "markdown",
   "metadata": {},
   "source": [
    "В Европе PS4 так же лидирует, а X360 в топе вытеснила платформа PC."
   ]
  },
  {
   "cell_type": "code",
   "execution_count": 44,
   "metadata": {},
   "outputs": [
    {
     "data": {
      "text/plain": [
       "platform\n",
       "3DS     44.24\n",
       "PS4     15.02\n",
       "PSV     14.54\n",
       "PS3     11.22\n",
       "WiiU     7.31\n",
       "Name: jp_sales, dtype: float64"
      ]
     },
     "execution_count": 44,
     "metadata": {},
     "output_type": "execute_result"
    }
   ],
   "source": [
    "current_data.groupby('platform')['jp_sales'].sum().sort_values(ascending=False)[:5]"
   ]
  },
  {
   "cell_type": "markdown",
   "metadata": {},
   "source": [
    "На японском рынке лидируют платформа 3DS. В отличие от  американского и европейского топа, в японский не вошли платформы X360 и XOne."
   ]
  },
  {
   "cell_type": "markdown",
   "metadata": {},
   "source": [
    "В Японии доля продаж игр знаительно ниже, чем в Северной Америке или Европе. Можно сделать вывод о том, что Американский рынок, среди анализируемых, является более приоритетным для производителей игр."
   ]
  },
  {
   "cell_type": "markdown",
   "metadata": {},
   "source": [
    "### Далее рассмотрим топ-5 жинров для каждого региона"
   ]
  },
  {
   "cell_type": "code",
   "execution_count": 45,
   "metadata": {
    "scrolled": true
   },
   "outputs": [
    {
     "data": {
      "text/plain": [
       "genre\n",
       "Shooter         79.02\n",
       "Action          72.53\n",
       "Sports          46.13\n",
       "Role-Playing    33.47\n",
       "Misc            15.05\n",
       "Name: na_sales, dtype: float64"
      ]
     },
     "execution_count": 45,
     "metadata": {},
     "output_type": "execute_result"
    }
   ],
   "source": [
    "current_data.groupby('genre')['na_sales'].sum().sort_values(ascending=False)[:5]"
   ]
  },
  {
   "cell_type": "markdown",
   "metadata": {},
   "source": [
    "Наиболее популярный жанр игр в Северной Америке - Action. Наименее популярный в топе - Role-Playing."
   ]
  },
  {
   "cell_type": "code",
   "execution_count": 46,
   "metadata": {},
   "outputs": [
    {
     "data": {
      "text/plain": [
       "genre\n",
       "Action          74.68\n",
       "Shooter         65.52\n",
       "Sports          45.73\n",
       "Role-Playing    28.17\n",
       "Racing          14.13\n",
       "Name: eu_sales, dtype: float64"
      ]
     },
     "execution_count": 46,
     "metadata": {},
     "output_type": "execute_result"
    }
   ],
   "source": [
    "current_data.groupby('genre')['eu_sales'].sum().sort_values(ascending=False)[:5]"
   ]
  },
  {
   "cell_type": "markdown",
   "metadata": {},
   "source": [
    "Топ популярных жанров в Европе не отличается от Американского топа, за исключением последнего пятого места, где Role-Playing игры заменили игры жанра Racing"
   ]
  },
  {
   "cell_type": "code",
   "execution_count": 47,
   "metadata": {},
   "outputs": [
    {
     "data": {
      "text/plain": [
       "genre\n",
       "Role-Playing    31.16\n",
       "Action          29.58\n",
       "Fighting         6.37\n",
       "Misc             5.61\n",
       "Shooter          4.87\n",
       "Name: jp_sales, dtype: float64"
      ]
     },
     "execution_count": 47,
     "metadata": {},
     "output_type": "execute_result"
    }
   ],
   "source": [
    "current_data.groupby('genre')['jp_sales'].sum().sort_values(ascending=False)[:5]"
   ]
  },
  {
   "cell_type": "markdown",
   "metadata": {},
   "source": [
    "Японский топ жанров отличается от остальных. На первое место попали игры жанра Role-Playing, а последнее занял жанр Adventure. Игры жанров Action, Misc и Sports все так же присутствуют в топе. "
   ]
  },
  {
   "cell_type": "markdown",
   "metadata": {},
   "source": [
    "### Узнаем, влияет ли рейтинг ESRB на продажи"
   ]
  },
  {
   "cell_type": "code",
   "execution_count": 48,
   "metadata": {},
   "outputs": [
    {
     "data": {
      "text/plain": [
       "rating\n",
       "M            96.42\n",
       "no_rating    64.72\n",
       "E            50.74\n",
       "T            38.95\n",
       "E10+         33.23\n",
       "Name: na_sales, dtype: float64"
      ]
     },
     "execution_count": 48,
     "metadata": {},
     "output_type": "execute_result"
    }
   ],
   "source": [
    "current_data.groupby('rating')['na_sales'].sum().sort_values(ascending=False)"
   ]
  },
  {
   "cell_type": "code",
   "execution_count": 49,
   "metadata": {},
   "outputs": [
    {
     "data": {
      "text/plain": [
       "rating\n",
       "M            93.44\n",
       "no_rating    58.95\n",
       "E            58.06\n",
       "T            34.07\n",
       "E10+         26.16\n",
       "Name: eu_sales, dtype: float64"
      ]
     },
     "execution_count": 49,
     "metadata": {},
     "output_type": "execute_result"
    }
   ],
   "source": [
    "current_data.groupby('rating')['eu_sales'].sum().sort_values(ascending=False)"
   ]
  },
  {
   "cell_type": "code",
   "execution_count": 50,
   "metadata": {
    "scrolled": true
   },
   "outputs": [
    {
     "data": {
      "text/plain": [
       "rating\n",
       "no_rating    56.90\n",
       "T            14.78\n",
       "E             8.94\n",
       "M             8.01\n",
       "E10+          4.46\n",
       "Name: jp_sales, dtype: float64"
      ]
     },
     "execution_count": 50,
     "metadata": {},
     "output_type": "execute_result"
    }
   ],
   "source": [
    "current_data.groupby('rating')['jp_sales'].sum().sort_values(ascending=False)"
   ]
  },
  {
   "cell_type": "markdown",
   "metadata": {},
   "source": [
    "Мы видим, что игры без рейтинга, то есть выпускаемые не для рынка США и Канады и не маркируемые организацией ESRB, пользуются спросом на американском и европейскойм рышке и занимают второе место в рейтинге. Игры с рейтингом М - для лиц старще 17 лет, занимают первое место на американском и европейском рынках, а рейтинг Е - для всех возрастных гатегорий, занимает третье место на всех трех рынках. На японском рынке первое место по продажам занимают игры без рейтнга, второе игры с рейтингом Т - для лиц старше 13 лет."
   ]
  },
  {
   "cell_type": "markdown",
   "metadata": {},
   "source": [
    "## Проверка гипотез"
   ]
  },
  {
   "cell_type": "markdown",
   "metadata": {},
   "source": [
    "**Первая гипотеза:** Средние пользовательские рейтинги платформ Xbox One и PC одинаковые\n",
    "\n",
    "```\n",
    "H_0: Средний пользовательский рейтинг платформы Xbox One = средний пользовательский рейтинг PC`\n",
    "H_1: Средний пользовательский рейтинг платформы Xbox One ≠ средний пользовательский рейтинг PC`\n",
    "alpha = 0.05\n",
    "```"
   ]
  },
  {
   "cell_type": "code",
   "execution_count": 52,
   "metadata": {},
   "outputs": [
    {
     "name": "stdout",
     "output_type": "stream",
     "text": [
      "0.0312821899616337\n",
      "Отвергаем нулевую гипотезу\n"
     ]
    }
   ],
   "source": [
    "user_score_XOne = current_data[current_data['platform'] =='X360']['user_score'].dropna()\n",
    "user_score_PC = current_data[current_data['platform'] =='PC']['user_score'].dropna()\n",
    "results = st.ttest_ind(\n",
    "    user_score_XOne,\n",
    "    user_score_PC,\n",
    "    equal_var=False)\n",
    "\n",
    "alpha = .05\n",
    "\n",
    "print(results.pvalue) \n",
    "if results.pvalue < alpha:\n",
    "    print('Отвергаем нулевую гипотезу')\n",
    "else:\n",
    "    print('Не получилось отвергнуть нулевую гипотезу')"
   ]
  },
  {
   "cell_type": "code",
   "execution_count": 53,
   "metadata": {},
   "outputs": [
    {
     "name": "stdout",
     "output_type": "stream",
     "text": [
      "Средний пользовательский рейтинг платформы Xbox One равен 5.771084337349397\n",
      "Средний пользовательский рейтинг платформы PC равен 6.298360655737705\n"
     ]
    }
   ],
   "source": [
    "print(f'Средний пользовательский рейтинг платформы Xbox One равен', user_score_XOne.mean())\n",
    "print(f'Средний пользовательский рейтинг платформы PC равен', user_score_PC.mean())"
   ]
  },
  {
   "cell_type": "markdown",
   "metadata": {},
   "source": [
    "Так как мы проверяем два средних значения на равенство, гипотиза является двухсторонеей, поэтому я сформулировала нулевую гипотезу о равенстве этих значений, и альтернативную гипотезу, ей противоречащую, которая будет принята верной в слуае опровержения нулевой. Для проверки гипотизы я использовала метод для проверки гипотезы о равенстве среднего двух генеральных совокупностей по взятым из них выборкам, при этом указав что их дисперсии не равны, так как у нас нет оснований полагать иначе. В итоге нулевую гипотезу опровергнуть не удалось, так как полученные нами данные ей не противоречат.\n"
   ]
  },
  {
   "cell_type": "markdown",
   "metadata": {},
   "source": [
    "**Вторая гипотеза:** Средние пользовательские рейтинги жанров Action (англ. «действие», экшен-игры) и Sports (англ. «спортивные соревнования») разные.\n",
    "\n",
    "```\n",
    "H_0: Средний пользовательский рейтинг игр в жанре Action = средний пользовательский рейтинг игр в жанре Sports`\n",
    "H_1: Средний пользовательский рейтинг игр в жанре Action ≠ средний пользовательский рейтинг игр в жанре Sports`\n",
    "alpha = 0.05\n",
    "```"
   ]
  },
  {
   "cell_type": "code",
   "execution_count": 54,
   "metadata": {},
   "outputs": [
    {
     "name": "stdout",
     "output_type": "stream",
     "text": [
      "1.1825550382644557e-14\n",
      "Отвергаем нулевую гипотезу\n"
     ]
    }
   ],
   "source": [
    "user_score_Action = current_data[current_data['genre'] =='Action']['user_score'].dropna()\n",
    "user_score_Sports = current_data[current_data['genre'] =='Sports']['user_score'].dropna()\n",
    "results = st.ttest_ind(\n",
    "    user_score_Action,\n",
    "    user_score_Sports,\n",
    "    equal_var=False)\n",
    "\n",
    "alpha = .05\n",
    "\n",
    "print(results.pvalue) \n",
    "if results.pvalue < alpha:\n",
    "    print('Отвергаем нулевую гипотезу')\n",
    "else:\n",
    "    print('Не получилось отвергнуть нулевую гипотезу')"
   ]
  },
  {
   "cell_type": "code",
   "execution_count": 55,
   "metadata": {},
   "outputs": [
    {
     "name": "stdout",
     "output_type": "stream",
     "text": [
      "Средний пользовательский рейтинг игр в жанре Action равен 6.760606060606061\n",
      "Средний пользовательский рейтинг игр в жанре Sports равен 5.2251968503937\n"
     ]
    }
   ],
   "source": [
    "print(f'Средний пользовательский рейтинг игр в жанре Action равен', user_score_Action.mean())\n",
    "print(f'Средний пользовательский рейтинг игр в жанре Sports равен', user_score_Sports.mean())"
   ]
  },
  {
   "cell_type": "markdown",
   "metadata": {},
   "source": [
    "Не смотря на то, что формулировка гипотезы направлена на проверку того, разными ли являются значения среднего пользовательского рейтинга ирг жанров Action и Sports, нулевую гипотезу я сформулировала на основе равенства, чтобы опровергнув ее доказать различия. В итоге нулевая гипотеза была отвергнута, значит средние пользовательские рейтинги жанров Action и Sports действительно разные."
   ]
  },
  {
   "cell_type": "markdown",
   "metadata": {},
   "source": [
    "## Общий вывод"
   ]
  },
  {
   "cell_type": "markdown",
   "metadata": {},
   "source": [
    "Мы проанализироали исторические данные о продажах игр разных жанров и на разных платформах. На основе проведенного анализа мы можем сделать следующие выводы, которые могут помочь нам спланировать кампанию на 2017-й год:\n",
    " - На 2016 год количество ежегодно выпускаемых игр идет на спад\n",
    " - Новые платформы появляются и исчезают примерно за 10 лет\n",
    " - Пик продаж игр на платформе приходится на начало либо середину её жизненного цикла\n",
    " - За последние 3 года по количеству продаж лидируют платформы PS4, XOne и 3DS, но к 2016 году игры на этих платформах все меньше пользуются спросом\n",
    " - Игры на платформе PS4 имеют высокие значения количества продаж\n",
    " - Отзывы критиков в больше степени влияют на продажи игр, чем отзывы пользователей\n",
    " - Наиболее продаваемым жанром среди игр является \"Shooter\"\n",
    " - Жанр Action занимает первое и второе место в топе по продажам на европейском и американском рынках, но проведенный анализ показывает что медиана продаж у этого жанра низкая, следовательно жанр популярен лишь за счет нескольких выстрелевших в этом жанре игр\n",
    " - Рынок Северной Америки имеет наибольшую долю продаж игр, по сравнению с Европой и Японией\n",
    " \n",
    "Подытожив, можно сказать, что выбирая стратегию на 2017 год следует брать во внимание платформы, которые на данный момент пользуются спросом и показывают неплохие результаты продаж, такие как PS4 и Xbox One - относительно новые платформы, находящиеся примерно в середине своего жизненого цикла. Следует учитывать отзывы критиков, так как это влияет на спрос. Для рекламы и реализации лучше выбирать американкий или европейский рынок, так как у них значительно выше доля продаж. Так же следует брать в рассчет жанры игр, наиболее продаваемым жанром является Shooter. Для наибоьшего обхвата рынка следует выбирать игры с рейтингом M.         "
   ]
  }
 ],
 "metadata": {
  "ExecuteTimeLog": [
   {
    "duration": 1093,
    "start_time": "2022-08-10T17:28:44.121Z"
   },
   {
    "duration": 155,
    "start_time": "2022-08-10T17:28:45.216Z"
   },
   {
    "duration": 20,
    "start_time": "2022-08-10T17:28:45.373Z"
   },
   {
    "duration": 4,
    "start_time": "2022-08-10T17:28:45.396Z"
   },
   {
    "duration": 201,
    "start_time": "2022-08-10T17:28:45.402Z"
   },
   {
    "duration": 3,
    "start_time": "2022-08-10T17:28:45.605Z"
   },
   {
    "duration": 18,
    "start_time": "2022-08-10T17:28:45.609Z"
   },
   {
    "duration": 24,
    "start_time": "2022-08-10T17:28:45.629Z"
   },
   {
    "duration": 122,
    "start_time": "2022-08-10T17:28:45.654Z"
   },
   {
    "duration": 0,
    "start_time": "2022-08-10T17:28:45.780Z"
   },
   {
    "duration": 0,
    "start_time": "2022-08-10T17:28:45.781Z"
   },
   {
    "duration": 0,
    "start_time": "2022-08-10T17:28:45.783Z"
   },
   {
    "duration": 0,
    "start_time": "2022-08-10T17:28:45.784Z"
   },
   {
    "duration": 0,
    "start_time": "2022-08-10T17:28:45.785Z"
   },
   {
    "duration": 0,
    "start_time": "2022-08-10T17:28:45.787Z"
   },
   {
    "duration": 0,
    "start_time": "2022-08-10T17:28:45.788Z"
   },
   {
    "duration": 0,
    "start_time": "2022-08-10T17:28:45.790Z"
   },
   {
    "duration": 0,
    "start_time": "2022-08-10T17:28:45.791Z"
   },
   {
    "duration": 0,
    "start_time": "2022-08-10T17:28:45.792Z"
   },
   {
    "duration": 0,
    "start_time": "2022-08-10T17:28:45.794Z"
   },
   {
    "duration": 0,
    "start_time": "2022-08-10T17:28:45.795Z"
   },
   {
    "duration": 0,
    "start_time": "2022-08-10T17:28:45.797Z"
   },
   {
    "duration": 0,
    "start_time": "2022-08-10T17:28:45.798Z"
   },
   {
    "duration": 0,
    "start_time": "2022-08-10T17:28:45.799Z"
   },
   {
    "duration": 0,
    "start_time": "2022-08-10T17:28:45.800Z"
   },
   {
    "duration": 0,
    "start_time": "2022-08-10T17:28:45.801Z"
   },
   {
    "duration": 0,
    "start_time": "2022-08-10T17:28:45.802Z"
   },
   {
    "duration": 0,
    "start_time": "2022-08-10T17:28:45.804Z"
   },
   {
    "duration": 0,
    "start_time": "2022-08-10T17:28:45.840Z"
   },
   {
    "duration": 0,
    "start_time": "2022-08-10T17:28:45.840Z"
   },
   {
    "duration": 0,
    "start_time": "2022-08-10T17:28:45.841Z"
   },
   {
    "duration": 0,
    "start_time": "2022-08-10T17:28:45.842Z"
   },
   {
    "duration": 0,
    "start_time": "2022-08-10T17:28:45.842Z"
   },
   {
    "duration": 0,
    "start_time": "2022-08-10T17:28:45.843Z"
   },
   {
    "duration": 0,
    "start_time": "2022-08-10T17:28:45.844Z"
   },
   {
    "duration": 0,
    "start_time": "2022-08-10T17:28:45.844Z"
   },
   {
    "duration": 0,
    "start_time": "2022-08-10T17:28:45.845Z"
   },
   {
    "duration": 0,
    "start_time": "2022-08-10T17:28:45.845Z"
   },
   {
    "duration": 0,
    "start_time": "2022-08-10T17:28:45.846Z"
   },
   {
    "duration": 0,
    "start_time": "2022-08-10T17:28:45.846Z"
   },
   {
    "duration": 0,
    "start_time": "2022-08-10T17:28:45.847Z"
   },
   {
    "duration": 0,
    "start_time": "2022-08-10T17:28:45.848Z"
   },
   {
    "duration": 0,
    "start_time": "2022-08-10T17:28:45.849Z"
   },
   {
    "duration": 0,
    "start_time": "2022-08-10T17:28:45.849Z"
   },
   {
    "duration": 0,
    "start_time": "2022-08-10T17:28:45.856Z"
   },
   {
    "duration": 0,
    "start_time": "2022-08-10T17:28:45.857Z"
   },
   {
    "duration": 0,
    "start_time": "2022-08-10T17:28:45.858Z"
   },
   {
    "duration": 0,
    "start_time": "2022-08-10T17:28:45.859Z"
   },
   {
    "duration": 48,
    "start_time": "2022-08-10T17:41:24.002Z"
   },
   {
    "duration": 1038,
    "start_time": "2022-08-10T17:41:34.331Z"
   },
   {
    "duration": 136,
    "start_time": "2022-08-10T17:41:35.370Z"
   },
   {
    "duration": 12,
    "start_time": "2022-08-10T17:41:35.508Z"
   },
   {
    "duration": 5,
    "start_time": "2022-08-10T17:41:35.522Z"
   },
   {
    "duration": 172,
    "start_time": "2022-08-10T17:41:35.528Z"
   },
   {
    "duration": 3,
    "start_time": "2022-08-10T17:41:35.701Z"
   },
   {
    "duration": 17,
    "start_time": "2022-08-10T17:41:35.705Z"
   },
   {
    "duration": 7,
    "start_time": "2022-08-10T17:41:35.723Z"
   },
   {
    "duration": 119,
    "start_time": "2022-08-10T17:41:35.731Z"
   },
   {
    "duration": 0,
    "start_time": "2022-08-10T17:41:35.852Z"
   },
   {
    "duration": 0,
    "start_time": "2022-08-10T17:41:35.853Z"
   },
   {
    "duration": 0,
    "start_time": "2022-08-10T17:41:35.855Z"
   },
   {
    "duration": 0,
    "start_time": "2022-08-10T17:41:35.856Z"
   },
   {
    "duration": 0,
    "start_time": "2022-08-10T17:41:35.856Z"
   },
   {
    "duration": 0,
    "start_time": "2022-08-10T17:41:35.857Z"
   },
   {
    "duration": 0,
    "start_time": "2022-08-10T17:41:35.858Z"
   },
   {
    "duration": 0,
    "start_time": "2022-08-10T17:41:35.859Z"
   },
   {
    "duration": 0,
    "start_time": "2022-08-10T17:41:35.860Z"
   },
   {
    "duration": 0,
    "start_time": "2022-08-10T17:41:35.860Z"
   },
   {
    "duration": 0,
    "start_time": "2022-08-10T17:41:35.861Z"
   },
   {
    "duration": 0,
    "start_time": "2022-08-10T17:41:35.863Z"
   },
   {
    "duration": 0,
    "start_time": "2022-08-10T17:41:35.864Z"
   },
   {
    "duration": 0,
    "start_time": "2022-08-10T17:41:35.865Z"
   },
   {
    "duration": 0,
    "start_time": "2022-08-10T17:41:35.865Z"
   },
   {
    "duration": 0,
    "start_time": "2022-08-10T17:41:35.866Z"
   },
   {
    "duration": 0,
    "start_time": "2022-08-10T17:41:35.867Z"
   },
   {
    "duration": 0,
    "start_time": "2022-08-10T17:41:35.869Z"
   },
   {
    "duration": 0,
    "start_time": "2022-08-10T17:41:35.869Z"
   },
   {
    "duration": 0,
    "start_time": "2022-08-10T17:41:35.870Z"
   },
   {
    "duration": 0,
    "start_time": "2022-08-10T17:41:35.871Z"
   },
   {
    "duration": 0,
    "start_time": "2022-08-10T17:41:35.910Z"
   },
   {
    "duration": 0,
    "start_time": "2022-08-10T17:41:35.911Z"
   },
   {
    "duration": 0,
    "start_time": "2022-08-10T17:41:35.912Z"
   },
   {
    "duration": 0,
    "start_time": "2022-08-10T17:41:35.913Z"
   },
   {
    "duration": 0,
    "start_time": "2022-08-10T17:41:35.914Z"
   },
   {
    "duration": 0,
    "start_time": "2022-08-10T17:41:35.915Z"
   },
   {
    "duration": 0,
    "start_time": "2022-08-10T17:41:35.916Z"
   },
   {
    "duration": 0,
    "start_time": "2022-08-10T17:41:35.917Z"
   },
   {
    "duration": 0,
    "start_time": "2022-08-10T17:41:35.918Z"
   },
   {
    "duration": 0,
    "start_time": "2022-08-10T17:41:35.919Z"
   },
   {
    "duration": 0,
    "start_time": "2022-08-10T17:41:35.920Z"
   },
   {
    "duration": 0,
    "start_time": "2022-08-10T17:41:35.921Z"
   },
   {
    "duration": 0,
    "start_time": "2022-08-10T17:41:35.922Z"
   },
   {
    "duration": 0,
    "start_time": "2022-08-10T17:41:35.923Z"
   },
   {
    "duration": 0,
    "start_time": "2022-08-10T17:41:35.924Z"
   },
   {
    "duration": 0,
    "start_time": "2022-08-10T17:41:35.925Z"
   },
   {
    "duration": 0,
    "start_time": "2022-08-10T17:41:35.926Z"
   },
   {
    "duration": 0,
    "start_time": "2022-08-10T17:41:35.927Z"
   },
   {
    "duration": 3,
    "start_time": "2022-08-10T17:41:58.204Z"
   },
   {
    "duration": 88,
    "start_time": "2022-08-10T17:41:58.937Z"
   },
   {
    "duration": 14,
    "start_time": "2022-08-10T17:42:01.005Z"
   },
   {
    "duration": 3,
    "start_time": "2022-08-10T17:42:03.040Z"
   },
   {
    "duration": 150,
    "start_time": "2022-08-10T17:42:04.018Z"
   },
   {
    "duration": 3,
    "start_time": "2022-08-10T17:42:07.097Z"
   },
   {
    "duration": 11,
    "start_time": "2022-08-10T17:42:09.531Z"
   },
   {
    "duration": 8,
    "start_time": "2022-08-10T17:42:11.735Z"
   },
   {
    "duration": 11,
    "start_time": "2022-08-10T17:42:13.085Z"
   },
   {
    "duration": 6,
    "start_time": "2022-08-10T17:42:58.417Z"
   },
   {
    "duration": 1052,
    "start_time": "2022-08-10T17:43:08.118Z"
   },
   {
    "duration": 95,
    "start_time": "2022-08-10T17:43:09.172Z"
   },
   {
    "duration": 12,
    "start_time": "2022-08-10T17:43:09.269Z"
   },
   {
    "duration": 4,
    "start_time": "2022-08-10T17:43:09.283Z"
   },
   {
    "duration": 187,
    "start_time": "2022-08-10T17:43:09.288Z"
   },
   {
    "duration": 4,
    "start_time": "2022-08-10T17:43:09.476Z"
   },
   {
    "duration": 15,
    "start_time": "2022-08-10T17:43:09.481Z"
   },
   {
    "duration": 18,
    "start_time": "2022-08-10T17:43:09.497Z"
   },
   {
    "duration": 20,
    "start_time": "2022-08-10T17:43:09.516Z"
   },
   {
    "duration": 14,
    "start_time": "2022-08-10T17:43:09.539Z"
   },
   {
    "duration": 113,
    "start_time": "2022-08-10T17:43:09.555Z"
   },
   {
    "duration": 0,
    "start_time": "2022-08-10T17:43:09.670Z"
   },
   {
    "duration": 0,
    "start_time": "2022-08-10T17:43:09.671Z"
   },
   {
    "duration": 0,
    "start_time": "2022-08-10T17:43:09.672Z"
   },
   {
    "duration": 0,
    "start_time": "2022-08-10T17:43:09.672Z"
   },
   {
    "duration": 0,
    "start_time": "2022-08-10T17:43:09.673Z"
   },
   {
    "duration": 0,
    "start_time": "2022-08-10T17:43:09.674Z"
   },
   {
    "duration": 0,
    "start_time": "2022-08-10T17:43:09.675Z"
   },
   {
    "duration": 0,
    "start_time": "2022-08-10T17:43:09.675Z"
   },
   {
    "duration": 0,
    "start_time": "2022-08-10T17:43:09.676Z"
   },
   {
    "duration": 0,
    "start_time": "2022-08-10T17:43:09.677Z"
   },
   {
    "duration": 0,
    "start_time": "2022-08-10T17:43:09.678Z"
   },
   {
    "duration": 0,
    "start_time": "2022-08-10T17:43:09.679Z"
   },
   {
    "duration": 0,
    "start_time": "2022-08-10T17:43:09.679Z"
   },
   {
    "duration": 0,
    "start_time": "2022-08-10T17:43:09.680Z"
   },
   {
    "duration": 0,
    "start_time": "2022-08-10T17:43:09.681Z"
   },
   {
    "duration": 0,
    "start_time": "2022-08-10T17:43:09.682Z"
   },
   {
    "duration": 0,
    "start_time": "2022-08-10T17:43:09.683Z"
   },
   {
    "duration": 0,
    "start_time": "2022-08-10T17:43:09.683Z"
   },
   {
    "duration": 0,
    "start_time": "2022-08-10T17:43:09.684Z"
   },
   {
    "duration": 0,
    "start_time": "2022-08-10T17:43:09.685Z"
   },
   {
    "duration": 0,
    "start_time": "2022-08-10T17:43:09.686Z"
   },
   {
    "duration": 0,
    "start_time": "2022-08-10T17:43:09.711Z"
   },
   {
    "duration": 0,
    "start_time": "2022-08-10T17:43:09.712Z"
   },
   {
    "duration": 0,
    "start_time": "2022-08-10T17:43:09.713Z"
   },
   {
    "duration": 0,
    "start_time": "2022-08-10T17:43:09.713Z"
   },
   {
    "duration": 0,
    "start_time": "2022-08-10T17:43:09.714Z"
   },
   {
    "duration": 0,
    "start_time": "2022-08-10T17:43:09.715Z"
   },
   {
    "duration": 0,
    "start_time": "2022-08-10T17:43:09.716Z"
   },
   {
    "duration": 0,
    "start_time": "2022-08-10T17:43:09.717Z"
   },
   {
    "duration": 0,
    "start_time": "2022-08-10T17:43:09.718Z"
   },
   {
    "duration": 0,
    "start_time": "2022-08-10T17:43:09.719Z"
   },
   {
    "duration": 0,
    "start_time": "2022-08-10T17:43:09.720Z"
   },
   {
    "duration": 0,
    "start_time": "2022-08-10T17:43:09.721Z"
   },
   {
    "duration": 0,
    "start_time": "2022-08-10T17:43:09.721Z"
   },
   {
    "duration": 0,
    "start_time": "2022-08-10T17:43:09.722Z"
   },
   {
    "duration": 0,
    "start_time": "2022-08-10T17:43:09.723Z"
   },
   {
    "duration": 0,
    "start_time": "2022-08-10T17:43:09.724Z"
   },
   {
    "duration": 2,
    "start_time": "2022-08-10T17:43:47.252Z"
   },
   {
    "duration": 85,
    "start_time": "2022-08-10T17:43:47.846Z"
   },
   {
    "duration": 12,
    "start_time": "2022-08-10T17:43:49.536Z"
   },
   {
    "duration": 4,
    "start_time": "2022-08-10T17:43:51.126Z"
   },
   {
    "duration": 149,
    "start_time": "2022-08-10T17:43:52.850Z"
   },
   {
    "duration": 3,
    "start_time": "2022-08-10T17:43:54.934Z"
   },
   {
    "duration": 13,
    "start_time": "2022-08-10T17:43:56.542Z"
   },
   {
    "duration": 6,
    "start_time": "2022-08-10T17:43:58.591Z"
   },
   {
    "duration": 5,
    "start_time": "2022-08-10T17:43:59.374Z"
   },
   {
    "duration": 18,
    "start_time": "2022-08-10T17:44:02.477Z"
   },
   {
    "duration": 7,
    "start_time": "2022-08-10T17:44:04.909Z"
   },
   {
    "duration": 13,
    "start_time": "2022-08-10T17:44:07.032Z"
   },
   {
    "duration": 4,
    "start_time": "2022-08-10T17:44:08.980Z"
   },
   {
    "duration": 5,
    "start_time": "2022-08-10T17:44:10.470Z"
   },
   {
    "duration": 5,
    "start_time": "2022-08-10T17:44:12.424Z"
   },
   {
    "duration": 7,
    "start_time": "2022-08-10T17:44:14.105Z"
   },
   {
    "duration": 13,
    "start_time": "2022-08-10T17:44:14.996Z"
   },
   {
    "duration": 4,
    "start_time": "2022-08-10T17:44:16.848Z"
   },
   {
    "duration": 13,
    "start_time": "2022-08-10T17:44:17.586Z"
   },
   {
    "duration": 142,
    "start_time": "2022-08-10T17:44:20.857Z"
   },
   {
    "duration": 11,
    "start_time": "2022-08-10T17:44:25.010Z"
   },
   {
    "duration": 32,
    "start_time": "2022-08-10T17:44:26.485Z"
   },
   {
    "duration": 964,
    "start_time": "2022-08-10T17:44:28.738Z"
   },
   {
    "duration": 21,
    "start_time": "2022-08-10T17:44:34.612Z"
   },
   {
    "duration": 140,
    "start_time": "2022-08-10T17:44:37.468Z"
   },
   {
    "duration": 23,
    "start_time": "2022-08-10T17:44:39.596Z"
   },
   {
    "duration": 742,
    "start_time": "2022-08-10T17:44:41.949Z"
   },
   {
    "duration": 24,
    "start_time": "2022-08-10T17:44:46.078Z"
   },
   {
    "duration": 277,
    "start_time": "2022-08-10T17:44:48.465Z"
   },
   {
    "duration": 20,
    "start_time": "2022-08-10T17:44:52.845Z"
   },
   {
    "duration": 127,
    "start_time": "2022-08-10T17:44:55.180Z"
   },
   {
    "duration": 5,
    "start_time": "2022-08-10T17:44:57.341Z"
   },
   {
    "duration": 117,
    "start_time": "2022-08-10T17:44:59.040Z"
   },
   {
    "duration": 5,
    "start_time": "2022-08-10T17:45:00.976Z"
   },
   {
    "duration": 167,
    "start_time": "2022-08-10T17:45:02.915Z"
   },
   {
    "duration": 5,
    "start_time": "2022-08-10T17:45:05.108Z"
   },
   {
    "duration": 8,
    "start_time": "2022-08-10T17:45:07.498Z"
   },
   {
    "duration": 7,
    "start_time": "2022-08-10T17:45:08.892Z"
   },
   {
    "duration": 7,
    "start_time": "2022-08-10T17:45:10.687Z"
   },
   {
    "duration": 9,
    "start_time": "2022-08-10T17:45:13.647Z"
   },
   {
    "duration": 7,
    "start_time": "2022-08-10T17:45:15.178Z"
   },
   {
    "duration": 7,
    "start_time": "2022-08-10T17:45:16.667Z"
   },
   {
    "duration": 6,
    "start_time": "2022-08-10T17:45:18.465Z"
   },
   {
    "duration": 7,
    "start_time": "2022-08-10T17:45:20.999Z"
   },
   {
    "duration": 6,
    "start_time": "2022-08-10T17:45:23.807Z"
   },
   {
    "duration": 2,
    "start_time": "2022-08-10T17:45:28.419Z"
   },
   {
    "duration": 3,
    "start_time": "2022-08-10T17:45:36.686Z"
   },
   {
    "duration": 2,
    "start_time": "2022-08-10T17:45:58.262Z"
   },
   {
    "duration": 9,
    "start_time": "2022-08-10T17:46:09.645Z"
   },
   {
    "duration": 11,
    "start_time": "2022-08-10T17:46:12.589Z"
   },
   {
    "duration": 70,
    "start_time": "2022-08-10T17:47:07.002Z"
   },
   {
    "duration": 1239,
    "start_time": "2022-08-10T23:35:23.175Z"
   },
   {
    "duration": 145,
    "start_time": "2022-08-10T23:35:24.416Z"
   },
   {
    "duration": 15,
    "start_time": "2022-08-10T23:35:24.563Z"
   },
   {
    "duration": 4,
    "start_time": "2022-08-10T23:35:24.580Z"
   },
   {
    "duration": 197,
    "start_time": "2022-08-10T23:35:24.586Z"
   },
   {
    "duration": 13,
    "start_time": "2022-08-10T23:35:24.785Z"
   },
   {
    "duration": 24,
    "start_time": "2022-08-10T23:35:24.803Z"
   },
   {
    "duration": 9,
    "start_time": "2022-08-10T23:35:24.829Z"
   },
   {
    "duration": 7,
    "start_time": "2022-08-10T23:35:24.840Z"
   },
   {
    "duration": 15,
    "start_time": "2022-08-10T23:35:24.849Z"
   },
   {
    "duration": 38,
    "start_time": "2022-08-10T23:35:24.866Z"
   },
   {
    "duration": 17,
    "start_time": "2022-08-10T23:35:24.906Z"
   },
   {
    "duration": 5,
    "start_time": "2022-08-10T23:35:24.925Z"
   },
   {
    "duration": 18,
    "start_time": "2022-08-10T23:35:24.933Z"
   },
   {
    "duration": 10,
    "start_time": "2022-08-10T23:35:24.954Z"
   },
   {
    "duration": 17,
    "start_time": "2022-08-10T23:35:24.965Z"
   },
   {
    "duration": 27,
    "start_time": "2022-08-10T23:35:24.983Z"
   },
   {
    "duration": 9,
    "start_time": "2022-08-10T23:35:25.011Z"
   },
   {
    "duration": 19,
    "start_time": "2022-08-10T23:35:25.022Z"
   },
   {
    "duration": 190,
    "start_time": "2022-08-10T23:35:25.042Z"
   },
   {
    "duration": 12,
    "start_time": "2022-08-10T23:35:25.234Z"
   },
   {
    "duration": 56,
    "start_time": "2022-08-10T23:35:25.248Z"
   },
   {
    "duration": 1144,
    "start_time": "2022-08-10T23:35:25.306Z"
   },
   {
    "duration": 23,
    "start_time": "2022-08-10T23:35:26.451Z"
   },
   {
    "duration": 263,
    "start_time": "2022-08-10T23:35:26.476Z"
   },
   {
    "duration": 25,
    "start_time": "2022-08-10T23:35:26.740Z"
   },
   {
    "duration": 879,
    "start_time": "2022-08-10T23:35:26.766Z"
   },
   {
    "duration": 30,
    "start_time": "2022-08-10T23:35:27.648Z"
   },
   {
    "duration": 362,
    "start_time": "2022-08-10T23:35:27.692Z"
   },
   {
    "duration": 23,
    "start_time": "2022-08-10T23:35:28.056Z"
   },
   {
    "duration": 172,
    "start_time": "2022-08-10T23:35:28.080Z"
   },
   {
    "duration": 6,
    "start_time": "2022-08-10T23:35:28.255Z"
   },
   {
    "duration": 157,
    "start_time": "2022-08-10T23:35:28.263Z"
   },
   {
    "duration": 6,
    "start_time": "2022-08-10T23:35:28.422Z"
   },
   {
    "duration": 220,
    "start_time": "2022-08-10T23:35:28.430Z"
   },
   {
    "duration": 7,
    "start_time": "2022-08-10T23:35:28.652Z"
   },
   {
    "duration": 15,
    "start_time": "2022-08-10T23:35:28.661Z"
   },
   {
    "duration": 23,
    "start_time": "2022-08-10T23:35:28.683Z"
   },
   {
    "duration": 10,
    "start_time": "2022-08-10T23:35:28.707Z"
   },
   {
    "duration": 7,
    "start_time": "2022-08-10T23:35:28.718Z"
   },
   {
    "duration": 7,
    "start_time": "2022-08-10T23:35:28.729Z"
   },
   {
    "duration": 6,
    "start_time": "2022-08-10T23:35:28.738Z"
   },
   {
    "duration": 12,
    "start_time": "2022-08-10T23:35:28.746Z"
   },
   {
    "duration": 43,
    "start_time": "2022-08-10T23:35:28.759Z"
   },
   {
    "duration": 7,
    "start_time": "2022-08-10T23:35:28.804Z"
   },
   {
    "duration": 9,
    "start_time": "2022-08-10T23:35:28.813Z"
   },
   {
    "duration": 9,
    "start_time": "2022-08-10T23:35:28.824Z"
   },
   {
    "duration": 88,
    "start_time": "2022-08-10T23:40:59.899Z"
   },
   {
    "duration": 10,
    "start_time": "2022-08-11T00:09:35.801Z"
   },
   {
    "duration": 1307,
    "start_time": "2022-08-20T14:19:45.071Z"
   },
   {
    "duration": 257,
    "start_time": "2022-08-20T14:19:46.381Z"
   },
   {
    "duration": 13,
    "start_time": "2022-08-20T14:19:46.640Z"
   },
   {
    "duration": 3,
    "start_time": "2022-08-20T14:19:46.655Z"
   },
   {
    "duration": 179,
    "start_time": "2022-08-20T14:19:46.659Z"
   },
   {
    "duration": 3,
    "start_time": "2022-08-20T14:19:46.840Z"
   },
   {
    "duration": 15,
    "start_time": "2022-08-20T14:19:46.844Z"
   },
   {
    "duration": 8,
    "start_time": "2022-08-20T14:19:46.860Z"
   },
   {
    "duration": 5,
    "start_time": "2022-08-20T14:19:46.869Z"
   },
   {
    "duration": 31,
    "start_time": "2022-08-20T14:19:46.876Z"
   },
   {
    "duration": 9,
    "start_time": "2022-08-20T14:19:46.910Z"
   },
   {
    "duration": 17,
    "start_time": "2022-08-20T14:19:46.921Z"
   },
   {
    "duration": 5,
    "start_time": "2022-08-20T14:19:46.939Z"
   },
   {
    "duration": 7,
    "start_time": "2022-08-20T14:19:46.945Z"
   },
   {
    "duration": 6,
    "start_time": "2022-08-20T14:19:46.953Z"
   },
   {
    "duration": 8,
    "start_time": "2022-08-20T14:19:46.960Z"
   },
   {
    "duration": 41,
    "start_time": "2022-08-20T14:19:46.969Z"
   },
   {
    "duration": 6,
    "start_time": "2022-08-20T14:19:47.012Z"
   },
   {
    "duration": 22,
    "start_time": "2022-08-20T14:19:47.019Z"
   },
   {
    "duration": 82,
    "start_time": "2022-08-20T14:19:47.042Z"
   },
   {
    "duration": 6,
    "start_time": "2022-08-20T14:19:47.126Z"
   },
   {
    "duration": 158,
    "start_time": "2022-08-20T14:19:47.133Z"
   },
   {
    "duration": 21,
    "start_time": "2022-08-20T14:19:47.292Z"
   },
   {
    "duration": 40,
    "start_time": "2022-08-20T14:19:47.315Z"
   },
   {
    "duration": 980,
    "start_time": "2022-08-20T14:19:47.357Z"
   },
   {
    "duration": 24,
    "start_time": "2022-08-20T14:19:48.338Z"
   },
   {
    "duration": 213,
    "start_time": "2022-08-20T14:19:48.364Z"
   },
   {
    "duration": 34,
    "start_time": "2022-08-20T14:19:48.581Z"
   },
   {
    "duration": 304,
    "start_time": "2022-08-20T14:19:48.616Z"
   },
   {
    "duration": 293,
    "start_time": "2022-08-20T14:19:48.922Z"
   },
   {
    "duration": 322,
    "start_time": "2022-08-20T14:19:49.217Z"
   },
   {
    "duration": 18,
    "start_time": "2022-08-20T14:19:49.541Z"
   },
   {
    "duration": 146,
    "start_time": "2022-08-20T14:19:49.560Z"
   },
   {
    "duration": 6,
    "start_time": "2022-08-20T14:19:49.708Z"
   },
   {
    "duration": 169,
    "start_time": "2022-08-20T14:19:49.715Z"
   },
   {
    "duration": 6,
    "start_time": "2022-08-20T14:19:49.885Z"
   },
   {
    "duration": 1736,
    "start_time": "2022-08-20T14:19:49.893Z"
   },
   {
    "duration": 228,
    "start_time": "2022-08-20T14:19:51.632Z"
   },
   {
    "duration": 6,
    "start_time": "2022-08-20T14:19:51.862Z"
   },
   {
    "duration": 353,
    "start_time": "2022-08-20T14:19:51.869Z"
   },
   {
    "duration": 410,
    "start_time": "2022-08-20T14:19:52.224Z"
   },
   {
    "duration": 7,
    "start_time": "2022-08-20T14:19:52.636Z"
   },
   {
    "duration": 8,
    "start_time": "2022-08-20T14:19:52.645Z"
   },
   {
    "duration": 6,
    "start_time": "2022-08-20T14:19:52.655Z"
   },
   {
    "duration": 10,
    "start_time": "2022-08-20T14:19:52.662Z"
   },
   {
    "duration": 9,
    "start_time": "2022-08-20T14:19:52.673Z"
   },
   {
    "duration": 13,
    "start_time": "2022-08-20T14:19:52.706Z"
   },
   {
    "duration": 27,
    "start_time": "2022-08-20T14:19:52.722Z"
   },
   {
    "duration": 12,
    "start_time": "2022-08-20T14:19:52.750Z"
   },
   {
    "duration": 15,
    "start_time": "2022-08-20T14:19:52.764Z"
   },
   {
    "duration": 11,
    "start_time": "2022-08-20T14:19:52.780Z"
   },
   {
    "duration": 9,
    "start_time": "2022-08-20T14:19:52.792Z"
   },
   {
    "duration": 25,
    "start_time": "2022-08-20T14:19:52.812Z"
   },
   {
    "duration": 10,
    "start_time": "2022-08-20T14:19:52.839Z"
   },
   {
    "duration": 10,
    "start_time": "2022-08-20T14:19:52.851Z"
   },
   {
    "duration": 1287,
    "start_time": "2022-08-20T18:56:48.315Z"
   },
   {
    "duration": 112,
    "start_time": "2022-08-20T18:56:49.604Z"
   },
   {
    "duration": 14,
    "start_time": "2022-08-20T18:56:49.717Z"
   },
   {
    "duration": 3,
    "start_time": "2022-08-20T18:56:49.733Z"
   },
   {
    "duration": 189,
    "start_time": "2022-08-20T18:56:49.738Z"
   },
   {
    "duration": 3,
    "start_time": "2022-08-20T18:56:49.929Z"
   },
   {
    "duration": 23,
    "start_time": "2022-08-20T18:56:49.933Z"
   },
   {
    "duration": 16,
    "start_time": "2022-08-20T18:56:49.957Z"
   },
   {
    "duration": 10,
    "start_time": "2022-08-20T18:56:49.974Z"
   },
   {
    "duration": 12,
    "start_time": "2022-08-20T18:56:49.987Z"
   },
   {
    "duration": 8,
    "start_time": "2022-08-20T18:56:50.001Z"
   },
   {
    "duration": 29,
    "start_time": "2022-08-20T18:56:50.011Z"
   },
   {
    "duration": 5,
    "start_time": "2022-08-20T18:56:50.041Z"
   },
   {
    "duration": 19,
    "start_time": "2022-08-20T18:56:50.047Z"
   },
   {
    "duration": 7,
    "start_time": "2022-08-20T18:56:50.067Z"
   },
   {
    "duration": 15,
    "start_time": "2022-08-20T18:56:50.075Z"
   },
   {
    "duration": 24,
    "start_time": "2022-08-20T18:56:50.092Z"
   },
   {
    "duration": 5,
    "start_time": "2022-08-20T18:56:50.118Z"
   },
   {
    "duration": 26,
    "start_time": "2022-08-20T18:56:50.124Z"
   },
   {
    "duration": 62,
    "start_time": "2022-08-20T18:56:50.151Z"
   },
   {
    "duration": 3,
    "start_time": "2022-08-20T18:56:50.215Z"
   },
   {
    "duration": 165,
    "start_time": "2022-08-20T18:56:50.220Z"
   },
   {
    "duration": 10,
    "start_time": "2022-08-20T18:56:50.386Z"
   },
   {
    "duration": 32,
    "start_time": "2022-08-20T18:56:50.397Z"
   },
   {
    "duration": 973,
    "start_time": "2022-08-20T18:56:50.430Z"
   },
   {
    "duration": 20,
    "start_time": "2022-08-20T18:56:51.404Z"
   },
   {
    "duration": 209,
    "start_time": "2022-08-20T18:56:51.426Z"
   },
   {
    "duration": 23,
    "start_time": "2022-08-20T18:56:51.638Z"
   },
   {
    "duration": 311,
    "start_time": "2022-08-20T18:56:51.663Z"
   },
   {
    "duration": 295,
    "start_time": "2022-08-20T18:56:51.975Z"
   },
   {
    "duration": 284,
    "start_time": "2022-08-20T18:56:52.271Z"
   },
   {
    "duration": 29,
    "start_time": "2022-08-20T18:56:52.557Z"
   },
   {
    "duration": 153,
    "start_time": "2022-08-20T18:56:52.587Z"
   },
   {
    "duration": 6,
    "start_time": "2022-08-20T18:56:52.741Z"
   },
   {
    "duration": 178,
    "start_time": "2022-08-20T18:56:52.748Z"
   },
   {
    "duration": 5,
    "start_time": "2022-08-20T18:56:52.927Z"
   },
   {
    "duration": 1757,
    "start_time": "2022-08-20T18:56:52.934Z"
   },
   {
    "duration": 197,
    "start_time": "2022-08-20T18:56:54.693Z"
   },
   {
    "duration": 5,
    "start_time": "2022-08-20T18:56:54.892Z"
   },
   {
    "duration": 331,
    "start_time": "2022-08-20T18:56:54.899Z"
   },
   {
    "duration": 413,
    "start_time": "2022-08-20T18:56:55.232Z"
   },
   {
    "duration": 7,
    "start_time": "2022-08-20T18:56:55.647Z"
   },
   {
    "duration": 9,
    "start_time": "2022-08-20T18:56:55.655Z"
   },
   {
    "duration": 20,
    "start_time": "2022-08-20T18:56:55.665Z"
   },
   {
    "duration": 7,
    "start_time": "2022-08-20T18:56:55.687Z"
   },
   {
    "duration": 7,
    "start_time": "2022-08-20T18:56:55.695Z"
   },
   {
    "duration": 6,
    "start_time": "2022-08-20T18:56:55.704Z"
   },
   {
    "duration": 7,
    "start_time": "2022-08-20T18:56:55.712Z"
   },
   {
    "duration": 6,
    "start_time": "2022-08-20T18:56:55.721Z"
   },
   {
    "duration": 6,
    "start_time": "2022-08-20T18:56:55.729Z"
   },
   {
    "duration": 54,
    "start_time": "2022-08-20T18:56:55.737Z"
   },
   {
    "duration": 8,
    "start_time": "2022-08-20T18:56:55.793Z"
   },
   {
    "duration": 8,
    "start_time": "2022-08-20T18:56:55.803Z"
   },
   {
    "duration": 8,
    "start_time": "2022-08-20T18:56:55.812Z"
   },
   {
    "duration": 5,
    "start_time": "2022-08-20T18:56:55.822Z"
   }
  ],
  "kernelspec": {
   "display_name": "Python 3 (ipykernel)",
   "language": "python",
   "name": "python3"
  },
  "language_info": {
   "codemirror_mode": {
    "name": "ipython",
    "version": 3
   },
   "file_extension": ".py",
   "mimetype": "text/x-python",
   "name": "python",
   "nbconvert_exporter": "python",
   "pygments_lexer": "ipython3",
   "version": "3.9.12"
  },
  "toc": {
   "base_numbering": 1,
   "nav_menu": {},
   "number_sections": true,
   "sideBar": true,
   "skip_h1_title": true,
   "title_cell": "Table of Contents",
   "title_sidebar": "Contents",
   "toc_cell": false,
   "toc_position": {
    "height": "calc(100% - 180px)",
    "left": "10px",
    "top": "150px",
    "width": "209.682px"
   },
   "toc_section_display": true,
   "toc_window_display": true
  }
 },
 "nbformat": 4,
 "nbformat_minor": 2
}
